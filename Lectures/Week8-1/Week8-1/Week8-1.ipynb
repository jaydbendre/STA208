{
 "cells": [
  {
   "cell_type": "markdown",
   "id": "f946ca3a",
   "metadata": {},
   "source": [
    "## Week 8-1: Dirichlet Process Mixtures\n",
    "\n",
    "_Bo Y.-C. Ning_\n",
    "\n",
    "#### Last time\n",
    "* ECDF, Histograms, KDE\n",
    "\n",
    "#### Today\n",
    "* Dirichlet process\n",
    "* Dirichlet process mixtures\n",
    "\n",
    "#### Reference\n",
    "* __(GvdVNB)__ Ch4\\&5 of Ghoshal and van der Vaart (2017). Fundamentals of Nonparametric Bayesian Inference. _Cambridge_\n",
    "* Thomas S. Ferguson (1973). A Bayesian Analysis of Some Nonparametric Problems. _AoS_ 1:209--230 \n",
    "* Escobar, M. and M. West (1995). Bayesian Density Estimation and Inference Using Mixtures. _JASA_ 90:577--588\n",
    "* Freedman, D. (1963). On the asymptotic behavior of Bayes' estimates in the discrete case. _Ann. Math. Statist._ 34:1386--1403\n",
    "* Ghosal, S., J. Ghosh, and A. van der Vaart (2000). Convergence rates of posterior distributions. _AoS_ 28:500-531\n",
    "* Ghosal, S. and A. van der Vaart (2007). Posterior convergence rates of Dirichlet mixtures at smooth densities. _AoS_ 35:697--723"
   ]
  },
  {
   "cell_type": "markdown",
   "id": "a58fa803",
   "metadata": {},
   "source": [
    "### Bayesian nonparametrics\n",
    "\n"
   ]
  },
  {
   "cell_type": "markdown",
   "id": "ca87f659",
   "metadata": {},
   "source": [
    "We have learned that in parametric Bayesian method, we have a parametric model $f(X^n|\\theta)$, $\\theta \\in \\Theta$, and then put a prior on $\\theta$, $\\pi(\\theta)$. Then the posterior distribution is obtained using Bayes' rule:\n",
    "$$\n",
    "\\pi(\\theta | X^n) = \\frac{f(X^n|\\theta)\\pi(\\theta)}{\\int f(X^n | \\theta) \\pi(\\theta) d\\theta}\n",
    "$$\n",
    "\n",
    "In nonparametric Bayes, we replace the model with a infinite dimensional model and the parameter is often a function. The restriction of the function can be, e.g., smoothness, $\\mathcal{F} = \\{f: \\int (f''(x))^2 dx \\leq \\infty\\}$, monotonicity, or positivity. \n",
    "\n",
    "If there is a dominating measure for a set $A$, $f \\in A$, then the posterior distribution can be written as \n",
    "$$\n",
    "\\pi(f \\in A | X) = \\frac{\\int_A f(X^n) d\\Pi(f)}{\\int_{f \\in \\mathcal{F}} f(X^n) d\\Pi(f)}\n",
    "$$\n",
    "The parameter in nonparametric statistics is a function. \n",
    "\n",
    "Then a challenging for nonparametric Bayes is to construct a prior on a infinite-dimensional space $\\mathcal{F}$. \n",
    "Ideally, such a construction should 1) makes the posterior computable (e.g., easy to obtain random samples from the posterior); 2) possesses a valid frequentist properties (e.g., optimal convergence rate, valid uncertainty quantification, etc.)"
   ]
  },
  {
   "cell_type": "markdown",
   "id": "0a0cc945",
   "metadata": {},
   "source": [
    "### Dirichlet process\n",
    "\n",
    "The Dirichlet process prior is one of the most popular prior in Bayesian nonparametrics. It also has a deep connection with the frequentist approaches mentioned in the last lecture. More specifically:\n",
    "\n",
    "- For estimating a CDF: (Freq) empirical cdf; (Bayesian) Dirichlet process\n",
    "- For estimating a density: (Freq) KDE; (Bayesian) Dirichlet process mixtures\n",
    "\n",
    "To start, we introduce the Dirichlet distribution. \n",
    "\n",
    "__Definition 1__ (Dirichlet distribution). The _Dirichlet distribution_ $\\text{Dir}(k; \\alpha)$ with parameter $k \\geq 2$ and $\\alpha = \\alpha_1, \\dots, \\alpha_k$ is the distribution of the vector $(X_1, \\dots, X_k)$, $\\sum_{i=1}^{X_i} = 1$, such that $(X_1, \\dots, X_{k-1})$ has the density \n",
    "\n",
    "$$\n",
    "\\frac{\\Gamma(\\alpha_1 + \\cdots + \\alpha_k)}{\\Gamma(\\alpha_1) \\cdots \\Gamma(\\alpha_k)} \n",
    "x_1^{\\alpha_1-1} x_2^{\\alpha_2-1} \\cdots x_{k-1}^{\\alpha_{k-1}-1} (1 - x_1 - \\cdots - x_{k-1})^{\\alpha_k - 1},\n",
    "$$\n",
    "\n",
    "where $x \\in \\mathbb{S}_{k} = \\{(x_1, \\dots, x_k): \\min_i x_i \\geq 0, \\sum_{i=1}^{k} x_i = 1\\}$, a ($k-1$)-simplex. \n",
    "\n",
    "_Special cases:_\n",
    "\n",
    "* When $k = 2$, the Dirichlet distribution is the beta distribution \n",
    "\n",
    "$$\n",
    "\\frac{\\Gamma(\\alpha_1 + \\alpha_2)}{\\Gamma(\\alpha_1)\\Gamma(\\alpha_2)} x_1^{\\alpha_1-1} (1-x_1)^{\\alpha_2-1}.\n",
    "$$\n",
    "\n",
    "Indeed, the Dirichlet distribution is multivariate generalization of the beta distribution.\n",
    "\n",
    "* For independent random variables $(Y_1, \\dots, Y_k)$ and $Y = \\sum_{i=1}^k Y_i$:\n",
    "\n",
    "    - If $Y_i \\sim \\text{Gamma}(\\alpha_i, 1)$, then $(Y_1, \\dots, Y_k)/Y \\sim \\text{Dir}(k; \\alpha_1, \\dots, \\alpha_k)$\n",
    "    \n",
    "    - If $Y_i \\sim \\text{Beta}(\\alpha_i, 1)$, then $((Y_1, \\dots, Y_k) | Y = 1) \\sim \\text{Dir}(k; \\alpha_1, \\dots, \\alpha_k)$\n",
    "    \n",
    "    - If $Y_i \\sim \\text{Exponential}(\\alpha_i)$, then $((e^{-Y_1}, \\dots, e^{-Y_k}) | \\sum_{i=1}^k e^{-Y_i} = 1) \\sim \\text{Dir}(k; \\alpha_1, \\dots, \\alpha_k)$.\n",
    "\n",
    "\n",
    "<img src=\"dirdist.jpg\" width=80%>  \n",
    "\n",
    "(Source: [Wikipedia](https://en.wikipedia.org/wiki/Dirichlet_distribution))"
   ]
  },
  {
   "cell_type": "markdown",
   "id": "77a627a8",
   "metadata": {},
   "source": [
    "The Dirichlet process is one of the most popular (default) priors in Baysian nonparametrics. It is the infinite-dimensional generalization of the Dirichlet distribution.\n",
    "\n",
    "__Definition 2__ (Dirichlet process). A random measure $P$ on a measurable space $(\\mathfrak{X}, \\mathcal{X})$ is said to possesse a _Dirichlet process_ distribution with a base probability measure $G_0$ and a positive $\\alpha \\in \\mathbb{R}$, which is denoted by $P \\sim \\text{DP}(\\alpha)$, for every finite measurable partition $A_1, \\dots, A_k$ of $\\mathfrak{X}$,\n",
    "\n",
    "$$\n",
    "(P(A_1), \\dots, P(A_k)) \\sim \\text{Dir}(k; \\alpha(A_1), \\dots, \\alpha(A_k)),\n",
    "$$\n",
    "\n",
    "We write $|\\alpha| = \\alpha(\\mathfrak{x})$ as its total mass and $\\bar \\alpha = \\alpha/|\\alpha|$ the probability measure by normalizing $\\alpha$.\n",
    "Sometime, we write $P \\sim \\text{DP}(MG_0)$. In this case $M =|\\alpha|$ and $\\bar \\alpha = \\alpha/M$ has cumulative distribution function $G_0$. $G_0$ is known as the _base probability distribution_. Some literature uses $P \\sim \\text{DP}(G_0, M)$ instead.  "
   ]
  },
  {
   "cell_type": "markdown",
   "id": "f15da5b3",
   "metadata": {},
   "source": [
    "### Means, variances, and covariances of DP\n",
    "\n",
    "If $P \\sim \\text{DP}(G_0, M)$, then for any measurable set $A$ and $B$,\n",
    "\n",
    "- Mean: $\\mathbb{E}(P(A)) = \\bar\\alpha (A) = G_0(A)$\n",
    "\n",
    "- Variance: $\\text{var}(P(A)) = \\frac{G_0(A) (1- G_0(A))}{M+1}$\n",
    "\n",
    "- Covariance: $\\text{cov}(P(A), P(B)) = \\frac{G_0(A \\cap B) - G_0(A) G_0(B)}{1 + M}$\n",
    "\n",
    "This suggests that for a large $M$, the mass of the DP will more concentrate around its mean, as the variance becomes smaller. Hence, $M$ determines the concentration mass around the mean. As $M \\to \\infty$, $P(A) \\to G_0(A)$ weakly for any measurable set $A$. Note that, $P(A)$ and $G_0(A)$ do not need to be absolutely continuous as posterior draws follows a discrete distribution despite that $G_0$ is often chosen as a smooth density (e.g., normal). "
   ]
  },
  {
   "cell_type": "markdown",
   "id": "95a9e433",
   "metadata": {},
   "source": [
    "#### Posterior distribution \n",
    "\n",
    "We now derive the posterior distribution. Consider the model \n",
    "\n",
    "$$\n",
    "P \\sim \\text{DP}(G_0, M), \\quad \\quad X_1, \\dots, X_n | P \\sim P,\n",
    "$$\n",
    "\n",
    "Let $X_1, \\dots, X_n$ takes values in $\\mathfrak{X}$, consider finite measurable partitions of $\\mathfrak{X}$ given by $A_1, \\dots, A_K$. Let $n_k \\sim \\#\\{X_i \\in A_k\\}$ the number of observations in $A_k$. Then by using the fact that the multinomial distribution is conjugate with the Dirichlet distribution, we obtain \n",
    "\n",
    "$$\n",
    "(P(A_1), \\dots, P(A_K)) \\sim \\text{DP}\\big(\n",
    "M G_0(A_1) + n_1, \\dots, M G_0(A_K) + n_K\n",
    "\\big).\n",
    "$$\n",
    "\n",
    "By writting $n_k = \\sum_{i=1}^n \\delta_{X_i}(A_k)$, where $\\delta_{X_j}$ is a point mass located at $X_j$. Then one can write the posterior distribution as \n",
    "\n",
    "$$\n",
    "(P(A_1), \\dots, P(A_K)) \\sim \\text{DP} \\Big(\n",
    "\\frac{MG_0 + \\sum_{i=1}^n \\delta_{X_i} }{M + n}, M + n\n",
    "\\Big).\n",
    "$$\n",
    "\n",
    "Thus, the posterior distribution is a weighted average between the empirical distribution $\\sum_{i=1}^n \\delta_{X_i}$ (with the weight $n/(M+n)$ and the base probability distribution $G_0$ (with the weight $M/(M +n)$). \n",
    "Intuitively, one can see that when $M \\to 0$ or $n \\to \\infty$, the posterior distribution is close to the empirical distribution.\n",
    "\n",
    "\n",
    "__Theorem 2__ (Posterior consistency). Suppose $X_1, \\dots, X_n$ are i.i.d. random variables with distribution $P_0$, then \n",
    "\n",
    "1. If $n \\to \\infty$, then $\\text{DP}(\\alpha + \\sum_{i=1}^n \\delta_{X_i}) \\rightsquigarrow \\delta_{P_0}$ almost surely;\n",
    "2. If $|\\alpha| \\to 0$, then $\\text{DP}(\\alpha + \\sum_{i=1}^n \\delta_{X_i}) \\rightsquigarrow \\text{DP}(\\sum_{i=1}^n \\delta_{X_i})$ almost surely. (Bayesian bootstrap)\n",
    "\n",
    "__Theorem 3__ (Benstein-von Mises theorem). If $X_1, X_2, \\dots$ are i.i.d. random variables with distribution $P_0$\n",
    "and $P | X_1, \\dots, X_n \\sim \\text{DP}(\\alpha + n \\mathbb{P}_n)$, $\\mathbb{P_n}$ is the emprical distribution of $X_1, \\dots, X_n$, then as $n \\to \\infty$,\n",
    "\n",
    "$$\n",
    "P\\Big(\\sqrt{n} \\big(P - \\mathbb{P}_n \\big) | X_1, \\dots, X_n\\Big) \\rightsquigarrow G_{P_0} \\ \\text{a.s.},\n",
    "$$\n",
    "where $G_{P_0}$ a $P_0$-Brownian bridge process. \n",
    "\n",
    "The above theorem implies that the $(1-\\alpha)$% Bayesian credible interval of the Dirichlet process is asymptotically the $(1-\\alpha)$% frequentist confidence interval. \n",
    "\n"
   ]
  },
  {
   "cell_type": "markdown",
   "id": "4073438b",
   "metadata": {},
   "source": [
    "### Construction of a Dirichlet process\n",
    "\n",
    "A Dirichlet process has three equivalent constructions: stick-breaking, Pólya-urn scheme, and Chinese restaurant process. We only look at the stick-breaking representation and the Chinese restaurant process. The Pólya-urn scheme is left to self-study (read Ch 4.2.4 of GvdVNP). \n",
    "\n",
    "#### Stick-breaking representation:\n",
    "\n",
    "<img src=\"stickbreaking.jpg\" width=70%>  \n",
    "\n",
    "\n",
    "For a stick has length 1, we break it at $\\beta_1$ and assign the length $\\pi_1$ to be the length of the stick just broke off. Next, break the remaining part at $\\beta_2$ and assign the length $\\pi_2$ to be its length. We continute to obtain $\\pi_3, \\pi_4, \\dots$ so on and so forth. Mathematically, we denote the process by \n",
    "\n",
    "$$\n",
    "\\beta_k \\overset{ind}{\\sim} \\text{Beta}(1, M), \\quad \\quad \\pi_k = \\beta_k \\prod_{i=1}^{k-1}(1 - \\beta_i)\n",
    "$$"
   ]
  },
  {
   "cell_type": "code",
   "execution_count": 1,
   "id": "0674d649",
   "metadata": {},
   "outputs": [],
   "source": [
    "import numpy as np\n",
    "\n",
    "def stick_breaking(num_weights, M):\n",
    "    betas = np.random.beta(1, M, num_weights)\n",
    "    remaining_lengths = np.append(1, np.cumprod(1 - betas))[0:num_weights]\n",
    "    weights = remaining_lengths * betas\n",
    "    return(weights)"
   ]
  },
  {
   "cell_type": "code",
   "execution_count": 2,
   "id": "bbc8363a",
   "metadata": {},
   "outputs": [
    {
     "data": {
      "text/plain": [
       "(0.0, 1.0)"
      ]
     },
     "execution_count": 2,
     "metadata": {},
     "output_type": "execute_result"
    },
    {
     "data": {
      "image/png": "[encoded data removed]",
      "text/plain": [
       "<Figure size 432x288 with 1 Axes>"
      ]
     },
     "metadata": {
      "needs_background": "light"
     },
     "output_type": "display_data"
    }
   ],
   "source": [
    "num_weights = 10\n",
    "M = 2\n",
    "wt = stick_breaking(num_weights, M)\n",
    "\n",
    "import matplotlib.pyplot as plt\n",
    "plt.bar(range(num_weights), wt)\n",
    "plt.ylim(0, 1)"
   ]
  },
  {
   "cell_type": "code",
   "execution_count": 3,
   "id": "d7a4fbc2",
   "metadata": {},
   "outputs": [
    {
     "data": {
      "text/plain": [
       "(0.0, 1.0)"
      ]
     },
     "execution_count": 3,
     "metadata": {},
     "output_type": "execute_result"
    },
    {
     "data": {
      "image/png": "[encoded data removed]",
      "text/plain": [
       "<Figure size 432x288 with 1 Axes>"
      ]
     },
     "metadata": {
      "needs_background": "light"
     },
     "output_type": "display_data"
    }
   ],
   "source": [
    "num_weights = 10\n",
    "M = 5\n",
    "wt = stick_breaking(num_weights, M)\n",
    "\n",
    "import matplotlib.pyplot as plt\n",
    "plt.bar(range(num_weights), wt)\n",
    "plt.ylim(0, 1)"
   ]
  },
  {
   "cell_type": "markdown",
   "id": "c78a4017",
   "metadata": {},
   "source": [
    "__Theorem 3__ (Sethuraman, 1994) If $\\theta_1, \\theta_2, \\dots \\overset{iid}{\\sim} G_0$, $\\beta_1, \\beta_2, \\dots \\overset{iid}{\\sim} \\text{Beta}(1, M)$, and $\\pi_k = \\beta_k \\prod_{i=1}^{k-1} (1 - \\beta_i)$, \n",
    "then $P = \\sum_{k=1}^\\infty \\pi_k \\delta_{\\beta_k} \\sim \\text{DP}(M G_0)$.\n",
    "\n"
   ]
  },
  {
   "cell_type": "markdown",
   "id": "6453dfdf",
   "metadata": {},
   "source": [
    "Example code: https://docs.pymc.io/en/v3/pymc-examples/examples/mixture_models/dp_mix.html"
   ]
  },
  {
   "cell_type": "markdown",
   "id": "6c076bb1",
   "metadata": {},
   "source": [
    "#### Chinese restaurant process (CRP)\n",
    "\n",
    "\n",
    "Suppose $P \\sim \\text{DP}(M, G_0)$ and $\\theta_i | P \\sim P$, then for a measurable set $A$, the _posterior predictive distribution_ is given by \n",
    "\n",
    "$$\n",
    "P(\\theta_{n+1} \\in A | \\theta_1, \\dots, \\theta_n) = \\frac{M}{M + n} G_0(A) + \\frac{1}{M + n} \\sum_{i=1}^n \\delta_{\\theta_i}(A).\n",
    "$$\n",
    "\n",
    "A popular metaphor to describe this formula is the _Chinese restaurant process_.\n",
    "Imaging a Chinese restaurant with an infinite number of tables labelled by 1, 2, 3, .... Each table can seat infinite number of customers. The first customer enters the restaurant and sits at the first table. She then pick a sit randomly from $\\theta \\in G_0$. When the second customer enters the restuarant, she can decide whether to sit at the same table close to the first customer or choose a new table and pick a sit $\\theta \\in G_0$. \n",
    "\n",
    "In general, for the $n+1$-th customer enters the restaurant, she \n",
    "\n",
    "- pick table $j$ with the probability $\\frac{n_j}{n + \\alpha_0}$ and sit close to the first customer at $j$-th table;\n",
    "- or pick a new table with the probability $\\frac{\\alpha_0}{n + \\alpha_0}$ and pick the sit $\\theta \\sim G_0$.\n",
    "\n",
    "We observe the following properties using the CRP metaphor:\n",
    "\n",
    "- _Exchangeability_. The probability of a seating is invariant under permutations\n",
    "- _Clustering_. Any seat arrangement creates a partition. \n",
    "- The expected number of occupied tables for $n$ customers are $E[k_n | \\alpha_0] = O(\\alpha_0 \\log n)$, which grows logarithmly with $n$. This allows us to define a distribution on the space of all natural numbers.\n"
   ]
  },
  {
   "cell_type": "markdown",
   "id": "a79e2666",
   "metadata": {},
   "source": [
    "### Dirichlet process mixtures"
   ]
  },
  {
   "cell_type": "markdown",
   "id": "fa500061",
   "metadata": {},
   "source": [
    "Sample draws from the Dirichlet process is discrete. This make DP useless for estimating a density function. A easy fix is to convolve it with a smooth kernel (in other words, go hierarchical), which leads to the Dirichlet process mixture model (DPMM).\n",
    "\n",
    "The DPMM is given as follows:\n",
    "\n",
    "\\begin{align*}\n",
    "& X_i | \\Theta_n \\sim f(x | \\Theta_n),\\\\\n",
    "& \\Theta_n | P \\sim P,\\\\\n",
    "& P | \\alpha, G_0 \\sim \\text{DP}(\\alpha, G_0).\n",
    "\\end{align*}"
   ]
  },
  {
   "cell_type": "markdown",
   "id": "f77306d1",
   "metadata": {},
   "source": [
    "#### MCMC\n",
    "\n",
    "Example (Escobar and West): $X_1, \\dots, X_n$ are independent, let $\\Theta_i = (\\theta_i, V_i)$, the model is given by \n",
    "\\begin{align}\n",
    "& X_i | \\Theta_i \\sim N(\\theta_i, V_i),\\\\\n",
    "& \\Theta_i | P \\sim P \\\\\n",
    "& P \\sim \\text{DP}(\\alpha, G_0).\n",
    "\\end{align}\n",
    "\n",
    "We choose base measure $G_0$ from bivariate normal-gamma familty, \n",
    "with $\\theta_i \\sim N(0, \\tau V_i)$, $V_i^{-1} \\sim \\text{Gamma}(s/2, S/2)$.\n",
    "\n",
    "Then the conditional posterior\n",
    "\\begin{equation}\n",
    "\\Theta_i| \\Theta_{-i}, x_1, \\dots, x_n \n",
    "\\sim \n",
    "q_0 G_i(\\Theta_i) + \\sum_{j\\neq i} q_j \\delta_{\\Theta_j}(\\Theta_i)\n",
    "\\end{equation}\n",
    "where \n",
    "$G_i(\\Theta_i)$ is the posterior of $\\Theta_i$, \n",
    "and the components are $V_i^{-1} \\sim \\text{Gamma}(\\frac{1+s}{2}, \\frac{S_i}{2})$\n",
    "with $S_i = S + X_i^2 / (1+\\tau)$, \n",
    "$\\theta_i| V_i \\sim N(\\frac{\\tau X_i}{1+\\tau}, \\frac{\\tau}{\\tau+1} V_i)$.\n",
    "\n",
    "We also have $q_0 + \\sum_{j\\neq i} q_j = 1$,\n",
    "$$q_0 \n",
    "\\propto \n",
    "\\alpha \\frac{\\Gamma((1+s)/2)}{\\Gamma(s/2)}s^{-1/2}\n",
    "[1 + X_i^2/(sM)]^{-(1+s)/2} / M^{1/2},\n",
    "$$\n",
    "where $M = (1+\\tau)S/s$, and\n",
    "$$\n",
    "q_j\n",
    "\\propto\n",
    "e^{- \\frac{(X_i - \\theta_j)^2}{2V_j}}(2V_j)^{-1/2}$$\n",
    "\n",
    "The mean and second moment of $p(X)$ is\n",
    "\\begin{equation}\n",
    "\\begin{split}\n",
    "E(p(X)| \\Theta_1, \\dots, \\Theta_n) \n",
    "& = \n",
    "\\frac{\\alpha}{\\alpha+n} \\int N(X; \\pi) dG(\\Theta_i) \n",
    "+\n",
    "\\frac{1}{\\alpha+n} \\sum_{i=1}^n N(X; \\theta_i, V_i)\\\\\n",
    "& = \n",
    "\\frac{\\alpha}{\\alpha+n} \\frac{1}{\\sqrt{2\\pi}} \n",
    "\\frac{ (S/2)^{s/2} \\Gamma(s/2 + 1/2)}{\\Gamma(s/2) (X^2/4 + S/2)^{s/2 + 1/2} }\n",
    "+ \n",
    "\\frac{1}{\\alpha+n} \\sum_{i=1}^n N(X; \\theta_i, V_i)\\\\\n",
    "E(p(X)^2| \\Theta_1, \\dots, \\Theta_n) \n",
    "& = \n",
    "\\frac{\\alpha}{\\alpha+n} \\int N^2(X; \\pi) dG(\\Theta_i) \n",
    "+\n",
    "\\frac{1}{\\alpha+n} \\sum_{i=1}^n N^2(X; \\theta_i, V_i)\\\\\n",
    "& = \n",
    "\\frac{\\alpha}{\\alpha+n} \\frac{1}{2\\sqrt{3}\\pi}\n",
    "\\frac{ (S/2)^{s/2+1} }{(X^2/3 + S/2)^{s/2+1} }\n",
    "+\n",
    "\\frac{1}{\\alpha+n} \\sum_{i=1}^n N^2(X; \\theta_i, V_i),\n",
    "\\end{split}\n",
    "\\end{equation}\n",
    "and \n",
    "$$\n",
    "\\text{Var}(P(X)|\\Theta_1, \\dots, \\Theta_n) = E(P(X)^2|\\Theta_1, \\dots, \\Theta_n) - (E(P(X)|\\Theta_1, \\dots, \\Theta_n))^2\n",
    "$$"
   ]
  },
  {
   "cell_type": "code",
   "execution_count": 4,
   "id": "4d85390d",
   "metadata": {},
   "outputs": [],
   "source": [
    "import numpy as np\n",
    "import scipy \n",
    "from scipy.special import gamma\n",
    "from scipy.stats import norm\n",
    "\n",
    "np.random.seed(202205)"
   ]
  },
  {
   "cell_type": "code",
   "execution_count": 5,
   "id": "97057fb9",
   "metadata": {},
   "outputs": [],
   "source": [
    "# generate data from a mixture normal density\n",
    "\n",
    "N = 100 # sample size\n",
    "u = np.random.uniform(0, 1, N) #Sample N random uniforms u from [0, 1]\n",
    "data = [] # create an empty array\n",
    "for i in range(N):\n",
    "    if u[i] <= 0.3:\n",
    "        data = np.append(data, np.random.normal(-1.5, 0.5, 1))\n",
    "    elif 0.3 < u[i] <= 0.8:\n",
    "        data = np.append(data, np.random.normal(0, 1, 1))\n",
    "    else: \n",
    "        data = np.append(data, np.random.normal(3, 2, 1)) "
   ]
  },
  {
   "cell_type": "code",
   "execution_count": 6,
   "id": "7a3088ab",
   "metadata": {},
   "outputs": [
    {
     "data": {
      "text/plain": [
       "<AxesSubplot:ylabel='Density'>"
      ]
     },
     "execution_count": 6,
     "metadata": {},
     "output_type": "execute_result"
    },
    {
     "data": {
      "image/png": "[encoded data removed]",
      "text/plain": [
       "<Figure size 432x288 with 1 Axes>"
      ]
     },
     "metadata": {
      "needs_background": "light"
     },
     "output_type": "display_data"
    }
   ],
   "source": [
    "import seaborn as sns\n",
    "\n",
    "sns.histplot(data, bins = 25, kde = True, stat = \"density\", color = 'darkblue')"
   ]
  },
  {
   "cell_type": "code",
   "execution_count": 50,
   "id": "607b274d",
   "metadata": {},
   "outputs": [],
   "source": [
    "# check bugs\n",
    "\n",
    "def DPMM_MCMC(data, grid, alpha = 4, iterloop = 100):\n",
    "    \n",
    "    x = data\n",
    "    n = data.shape[0] # length of data\n",
    "    k = n\n",
    "    # specify the prior hyperparameters\n",
    "    m = 0\n",
    "    tau = 1\n",
    "    s = 4\n",
    "    S = 4\n",
    "    alpha = alpha\n",
    "    M = (1 + tau)*S/s\n",
    "    \n",
    "    # choose starting point of theta and V\n",
    "    theta = x\n",
    "    V = 1/np.random.gamma(s/2, 2/S, k)\n",
    "\n",
    "    # iteration\n",
    "    iterloop = iterloop\n",
    "    theta = np.ones(k)\n",
    "    prob = np.zeros(k)\n",
    "    q1 = np.zeros(k)\n",
    "    \n",
    "    # for estimate density, we choose a grid from -3 to 6\n",
    "    grid = grid\n",
    "    grid_size = grid.shape[0]\n",
    "    # create empty array to collect draws\n",
    "    theta_draw = V_draw = np.zeros(shape=(k, iterloop))\n",
    "    mean_draw = var_draw = np.zeros(shape=(grid_size, iterloop))\n",
    "    \n",
    "    # start MCMC\n",
    "    for iter in range(iterloop):\n",
    "        \n",
    "        for i in range(k):\n",
    "        # calculate q0 and q1\n",
    "            q0 = alpha*gamma((1+s)/2)*gamma(2/s)/np.sqrt(s)*(1 + x[i]**2/(s*M))**(-(1+s)/2) / np.sqrt(M)\n",
    "            for j in range(k):\n",
    "                q1[j] <- np.exp(-(x[i] - theta[j])**2 / (2*V[j])) / np.sqrt(2*V[j])\n",
    "        \n",
    "            prob = q1\n",
    "            prob[i] = q0\n",
    "            prob = prob / sum(prob)\n",
    "            \n",
    "         # draw theta and V\n",
    "            # draw theta \n",
    "            number = np.random.choice(np.arange(0, k), 1, p = prob)\n",
    "            if number == i:\n",
    "                SS = S + x[i]**2 / (1+tau)\n",
    "                V[i] = 1/np.random.gamma((1+s)/2, 2/SS, 1)\n",
    "                theta[i] = np.random.normal(tau*x[i]/(1+tau), np.sqrt(tau/(1+tau) * V[i]), 1)\n",
    "            else:\n",
    "                V[i] = V[number]\n",
    "                theta[i] = theta[number]\n",
    "                \n",
    "            # evaluate the mean and variance\n",
    "            # mean\n",
    "            mean_grid = second_moment_grid = []\n",
    "            for d in range(grid.shape[0]):\n",
    "                mean_grid = np.append(mean_grid, sum(norm.pdf(grid[d], theta, np.sqrt(V))))\n",
    "                second_moment_grid = np.append(second_moment_grid, sum(norm.pdf(grid[d], theta, np.sqrt(V))**2))\n",
    "\n",
    "            # calculate mean\n",
    "            mean = alpha/(alpha + n)/(2*np.sqrt(np.pi))*(S/2)**(s/2)/gamma(s/2)*gamma(s/2+1/2)/(S/2 + grid**2/4)**(s/2+1/2)+1/(alpha+n)*mean_grid\n",
    "            \n",
    "            # calculate second moment\n",
    "            second_moment = alpha/(alpha + n)/(2*np.sqrt(3)*np.pi)*(S/2)**(s/2+1)/(S/2 + grid**2/3)**(s/2+1)+1/(alpha+n)*second_moment_grid\n",
    "            # calculate variance\n",
    "            var = second_moment - mean**2\n",
    "            \n",
    "        theta_draw[:,iter] = theta\n",
    "        V_draw[:,iter] = V\n",
    "        mean_draw[:,iter] = mean\n",
    "        var_draw[:,iter] = var\n",
    "        \n",
    "    return theta_draw, V_draw, mean_draw, var_draw\n",
    "            "
   ]
  },
  {
   "cell_type": "code",
   "execution_count": 52,
   "id": "f079b8b2",
   "metadata": {},
   "outputs": [],
   "source": [
    "# create a grid\n",
    "grid = np.arange(-4.5, 8, 0.1)\n",
    "theta_draw, V_draw, mean_draw, var_draw = DPMM_MCMC(data, grid)"
   ]
  },
  {
   "cell_type": "code",
   "execution_count": 54,
   "id": "3a65a531",
   "metadata": {},
   "outputs": [],
   "source": [
    "iterloop = 100\n",
    "burnin = int(iterloop * 0.2)\n",
    "mean_noburnin = mean_draw[:,(burnin+1):iterloop]\n",
    "var_noburnin = var_draw[:, (burnin+1):iterloop]\n",
    "mean_est = np.mean(mean_noburnin, 1)\n",
    "var_est = np.mean(var_noburnin, 1)"
   ]
  },
  {
   "cell_type": "code",
   "execution_count": null,
   "id": "dd512cd6",
   "metadata": {},
   "outputs": [],
   "source": [
    "from matplotlib import pyplot as plt\n",
    "\n",
    "sns.kdeplot(data)\n",
    "plt.ylim(0, 0.5)\n",
    "plt.plot(grid, mean_est, color = \"red\")\n",
    "plt.plot(grid, mean_est + np.sqrt(var_est), color = \"red\", linestyle='dashed')\n",
    "plt.plot(grid, mean_est - np.sqrt(var_est), color = \"red\", linestyle='dashed')"
   ]
  },
  {
   "cell_type": "markdown",
   "id": "3eeeb966",
   "metadata": {},
   "source": [
    "<img src=\"density.png\" width=70%>  "
   ]
  },
  {
   "cell_type": "markdown",
   "id": "a33e69a6",
   "metadata": {},
   "source": [
    "The MCMC algorithm above is essentially Gibbs sampling. It is also known as the _collapsed sampler_, as it integral out $G$. However, this method has two major deficit:\n",
    "\n",
    "1. it only sample one data point at one time, so the mixing can be very slow;\n",
    "2. if the likelihood is not conjugate, then the integration can be difficult. \n",
    "\n",
    "Other methods include the Blocked Gibbs Sampler, \"no gaps\" algorithm, slicing algorithm. Please read Ch 5.2 of GvdVNP for details. "
   ]
  },
  {
   "cell_type": "markdown",
   "id": "bad86fe2",
   "metadata": {},
   "source": [
    "Posterior consistency for DPMM? Yes. For the Dirichlet mixture of normal prior, if the true density is $\\beta$-smooth, then the posterior conergence rate is $n^{-\\beta/(2\\beta + 1)}\\log (n)^t$ for some $t$. Note this is the same rate (up to a log factor) as the rate for KDE we showed last time when $\\beta = 2$. If the true density itself is a mixture of normal densities, then the rate is much better, a near parameter rate $n^{-1/2}$ up to a log factor. \n",
    "\n",
    "However, in general, consistency is rare for Bayesian procedures. A famous example is given by Freedman (1963), which it shows that for $\\theta_0$ the geometric distribution with parameter $1/4$, there exists a prior on $\\mathbb{S}_\\infty$, the infinite-dimensional unit simplex, that gives mass to every neighborhood of $\\theta_0$, but the posterior concentrates in the neighborhoods of the geometric distribution with parameter $3/4$. In practice, one often work with \"default\" priors. Ghosal, Ghosh, and van der Vaart (2000) provides a general theory to obtain the posterior convergence rate. Studying the uncertainty quantification of a posterior is more difficult, one can read the recent works by Castillo and Nickl (2014) and Szabo, van der Vaart, and van Zanten (2015). "
   ]
  }
 ],
 "metadata": {
  "kernelspec": {
   "display_name": "Python 3",
   "language": "python",
   "name": "python3"
  },
  "language_info": {
   "codemirror_mode": {
    "name": "ipython",
    "version": 3
   },
   "file_extension": ".py",
   "mimetype": "text/x-python",
   "name": "python",
   "nbconvert_exporter": "python",
   "pygments_lexer": "ipython3",
   "version": "3.8.8"
  }
 },
 "nbformat": 4,
 "nbformat_minor": 5
}
