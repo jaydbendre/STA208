{
 "cells": [
  {
   "cell_type": "markdown",
   "metadata": {},
   "source": [
    "# Homework 0 \n",
    "\n",
    "Author : Jay Bendre\n",
    "\n",
    "Date :  29th March, 2022 "
   ]
  },
  {
   "cell_type": "code",
   "execution_count": 75,
   "metadata": {},
   "outputs": [],
   "source": [
    "# Importing all required libraries\n",
    "import pandas as pd\n",
    "import numpy as np \n",
    "import matplotlib.pyplot as plt\n"
   ]
  },
  {
   "cell_type": "markdown",
   "metadata": {},
   "source": [
    "### Question 1. \n",
    "\n",
    "Basic Exercises using Numpy, let  $u = (1,2,3,3,2,1)'$ \n",
    "\n",
    "a. Compute $U = I - \\frac{2}{u'u} uu'$"
   ]
  },
  {
   "cell_type": "code",
   "execution_count": 76,
   "metadata": {},
   "outputs": [
    {
     "data": {
      "text/plain": [
       "matrix([[ 0.92857, -0.14286, -0.21429, -0.21429, -0.14286, -0.07143],\n",
       "        [-0.14286,  0.71429, -0.42857, -0.42857, -0.28571, -0.14286],\n",
       "        [-0.21429, -0.42857,  0.35714, -0.64286, -0.42857, -0.21429],\n",
       "        [-0.21429, -0.42857, -0.64286,  0.35714, -0.42857, -0.21429],\n",
       "        [-0.14286, -0.28571, -0.42857, -0.42857,  0.71429, -0.14286],\n",
       "        [-0.07143, -0.14286, -0.21429, -0.21429, -0.14286,  0.92857]])"
      ]
     },
     "execution_count": 76,
     "metadata": {},
     "output_type": "execute_result"
    }
   ],
   "source": [
    "# Initializing required u variable \n",
    "u = np.array([1,2,3,3,2,1]).T\n",
    "\n",
    "# Identity Matrix\n",
    "i = np.identity(u.shape[0])\n",
    "\n",
    "# Getting the new transformation \n",
    "U = np.matrix(i - (2/ (u.T @ u)) * np.outer(u,u.T))\n",
    "\n",
    "# Printing the new transformation\n",
    "U"
   ]
  },
  {
   "cell_type": "markdown",
   "metadata": {},
   "source": [
    "b. Let C = $UU$, find the largest and smallest off diagonal elements of C."
   ]
  },
  {
   "cell_type": "code",
   "execution_count": 77,
   "metadata": {},
   "outputs": [
    {
     "name": "stdout",
     "output_type": "stream",
     "text": [
      "Value of C matrix: \n",
      " [[ 1.00000e+00 -3.50131e-17 -5.16523e-17 -5.16523e-17 -3.50131e-17\n",
      "  -2.20912e-17]\n",
      " [-3.50131e-17  1.00000e+00 -4.77934e-17 -4.77934e-17 -1.45150e-17\n",
      "  -1.64268e-17]\n",
      " [-5.16523e-17 -4.77934e-17  1.00000e+00 -8.38332e-17 -7.55490e-17\n",
      "  -5.23957e-17]\n",
      " [-5.16523e-17 -4.77934e-17 -8.38332e-17  1.00000e+00 -7.55490e-17\n",
      "  -5.23957e-17]\n",
      " [-3.50131e-17 -1.45150e-17 -7.55490e-17 -7.55490e-17  1.00000e+00\n",
      "  -1.64268e-17]\n",
      " [-2.20912e-17 -1.64268e-17 -5.23957e-17 -5.23957e-17 -1.64268e-17\n",
      "   1.00000e+00]]\n",
      "Minimum off diagonal element of C is: -8.383316716557304e-17 \n",
      "Maximum off diagonal element of C is: -1.451503316633655e-17\n"
     ]
    }
   ],
   "source": [
    "# Defining C = UU \n",
    "C = U @ U\n",
    "\n",
    "print(\"Value of C matrix: \\n\", C)\n",
    "# Off diagonal elements of C \n",
    "\n",
    "# Generating the mask \n",
    "mask = np.ones(C.shape)\n",
    "# Generating boolean matrix \n",
    "mask = (mask - np.diag(np.ones(C.shape[0]))).astype(np.bool)\n",
    "\n",
    "\n",
    "print(\"Minimum off diagonal element of C is: {} \\nMaximum off diagonal element of C is: {}\".format(\n",
    "    np.amin(C[mask]), np.amax(C[mask])))"
   ]
  },
  {
   "cell_type": "markdown",
   "metadata": {},
   "source": [
    "c. Find largest and smallest diagonal elements of C"
   ]
  },
  {
   "cell_type": "code",
   "execution_count": 78,
   "metadata": {},
   "outputs": [
    {
     "name": "stdout",
     "output_type": "stream",
     "text": [
      "Minimum diagonal element of C is: 0.9999999999999999 \n",
      "Maximum diagonal element of C is: 1.0\n"
     ]
    }
   ],
   "source": [
    "# Extracting diagonal elements from the matrix\n",
    "diag_C = C.diagonal()\n",
    "print(\"Minimum diagonal element of C is: {} \\nMaximum diagonal element of C is: {}\".format(np.min(diag_C), np.max(diag_C)))"
   ]
  },
  {
   "cell_type": "markdown",
   "metadata": {},
   "source": [
    "d. Compute $Uu$"
   ]
  },
  {
   "cell_type": "code",
   "execution_count": 79,
   "metadata": {},
   "outputs": [
    {
     "name": "stdout",
     "output_type": "stream",
     "text": [
      "[[-1. -2. -3. -3. -2. -1.]]\n"
     ]
    }
   ],
   "source": [
    "# Getting the dot product between vector and matrix\n",
    "Uu = U @ u\n",
    "print(Uu)"
   ]
  },
  {
   "cell_type": "markdown",
   "metadata": {},
   "source": [
    "e. Computer the scalar $max_i \\sum_{j} |U_{ij}|$"
   ]
  },
  {
   "cell_type": "code",
   "execution_count": 80,
   "metadata": {},
   "outputs": [
    {
     "name": "stdout",
     "output_type": "stream",
     "text": [
      "The above scalar = 2.2857142857142856\n"
     ]
    }
   ],
   "source": [
    "# Getting rowise sums of the matrix\n",
    "row_wise_sums = np.sum(np.abs(U), axis = 0)\n",
    "print(\"The above scalar = {}\".format(np.max(row_wise_sums)))"
   ]
  },
  {
   "cell_type": "markdown",
   "metadata": {},
   "source": [
    "f. Print third row of U"
   ]
  },
  {
   "cell_type": "code",
   "execution_count": 81,
   "metadata": {},
   "outputs": [
    {
     "name": "stdout",
     "output_type": "stream",
     "text": [
      "Third Row of U matrix: \n",
      " [[-0.21429 -0.42857  0.35714 -0.64286 -0.42857 -0.21429]]\n"
     ]
    }
   ],
   "source": [
    "print(\"Third Row of U matrix: \\n\", U[2,:])"
   ]
  },
  {
   "cell_type": "markdown",
   "metadata": {},
   "source": [
    "g. Print the elements of the second column below the diagonal of U"
   ]
  },
  {
   "cell_type": "code",
   "execution_count": 82,
   "metadata": {},
   "outputs": [
    {
     "name": "stdout",
     "output_type": "stream",
     "text": [
      "Elements in the second column below the diagonal: \n",
      " [[-0.42857]\n",
      " [-0.42857]\n",
      " [-0.28571]\n",
      " [-0.14286]]\n"
     ]
    }
   ],
   "source": [
    "# Extracting the second column and then selecting only elements below the diagonal\n",
    "second_col_U = U[:,1][2:]\n",
    "print(\"Elements in the second column below the diagonal: \\n\", second_col_U)"
   ]
  },
  {
   "cell_type": "markdown",
   "metadata": {},
   "source": [
    "h. Let A be first 3 columns of U, Compute $P = AA'$"
   ]
  },
  {
   "cell_type": "code",
   "execution_count": 83,
   "metadata": {},
   "outputs": [
    {
     "name": "stdout",
     "output_type": "stream",
     "text": [
      "Matrix P: \n",
      " [[ 9.28571e-01 -1.42857e-01 -2.14286e-01 -3.54025e-17 -2.88885e-17\n",
      "  -1.44442e-17]\n",
      " [-1.42857e-01  7.14286e-01 -4.28571e-01 -1.52939e-17 -2.26576e-18\n",
      "  -1.13288e-18]\n",
      " [-2.14286e-01 -4.28571e-01  3.57143e-01 -4.07837e-17 -4.30495e-17\n",
      "  -2.15247e-17]\n",
      " [-3.54025e-17 -1.52939e-17 -4.07837e-17  6.42857e-01  4.28571e-01\n",
      "   2.14286e-01]\n",
      " [-2.88885e-17 -2.26576e-18 -4.30495e-17  4.28571e-01  2.85714e-01\n",
      "   1.42857e-01]\n",
      " [-1.44442e-17 -1.13288e-18 -2.15247e-17  2.14286e-01  1.42857e-01\n",
      "   7.14286e-02]]\n"
     ]
    }
   ],
   "source": [
    "# Extracting first 3 columns\n",
    "A = np.matrix(U[:,:3])\n",
    "\n",
    "# Calculating P = A A^T\n",
    "P = np.matrix(A @ A.T)\n",
    "\n",
    "# Printing the matrix\n",
    "print(\"Matrix P: \\n\", P)"
   ]
  },
  {
   "cell_type": "markdown",
   "metadata": {},
   "source": [
    "i. Show that P is idempotent by recomputing (e) with $PP - P$"
   ]
  },
  {
   "cell_type": "code",
   "execution_count": 84,
   "metadata": {},
   "outputs": [
    {
     "name": "stdout",
     "output_type": "stream",
     "text": [
      "The above scalar = 2.43852557194454e-16\n"
     ]
    }
   ],
   "source": [
    "# Computing PP - P, Let it be X \n",
    "X = P @ P - P\n",
    "row_wise_sums = np.sum(np.abs(X), axis = 1)\n",
    "print(\"The above scalar = {}\".format(np.max(row_wise_sums)))"
   ]
  },
  {
   "cell_type": "markdown",
   "metadata": {},
   "source": [
    "Since all values in $PP - P \\sim 0$, we can say that $P$ is a idempotent matrix. "
   ]
  },
  {
   "cell_type": "markdown",
   "metadata": {},
   "source": [
    "j. Let B be the last 3 columns of U, compute $Q = BB'$"
   ]
  },
  {
   "cell_type": "code",
   "execution_count": 85,
   "metadata": {},
   "outputs": [
    {
     "name": "stdout",
     "output_type": "stream",
     "text": [
      "Matrix Q: \n",
      " [[ 7.14286e-02  1.42857e-01  2.14286e-01 -2.38967e-17 -7.25752e-18\n",
      "  -8.21338e-18]\n",
      " [ 1.42857e-01  2.85714e-01  4.28571e-01 -4.77934e-17 -1.45150e-17\n",
      "  -1.64268e-17]\n",
      " [ 2.14286e-01  4.28571e-01  6.42857e-01 -2.83220e-17 -2.00378e-17\n",
      "  -2.46402e-17]\n",
      " [-2.38967e-17 -4.77934e-17 -2.83220e-17  3.57143e-01 -4.28571e-01\n",
      "  -2.14286e-01]\n",
      " [-7.25752e-18 -1.45150e-17 -2.00378e-17 -4.28571e-01  7.14286e-01\n",
      "  -1.42857e-01]\n",
      " [-8.21338e-18 -1.64268e-17 -2.46402e-17 -2.14286e-01 -1.42857e-01\n",
      "   9.28571e-01]]\n"
     ]
    }
   ],
   "source": [
    "# Getting B matrix from last 3 columns of U \n",
    "B = np.matrix(U[:,-3:])\n",
    "\n",
    "# Computing Q = B B^T\n",
    "Q = np.matrix(B @ B.T)\n",
    "\n",
    "# Printing the matrix\n",
    "print(\"Matrix Q: \\n\", Q)"
   ]
  },
  {
   "cell_type": "markdown",
   "metadata": {},
   "source": [
    "k. Show that $Q$ is idempotent by recomputing (e) with $QQ - Q$"
   ]
  },
  {
   "cell_type": "code",
   "execution_count": 86,
   "metadata": {},
   "outputs": [
    {
     "name": "stdout",
     "output_type": "stream",
     "text": [
      "The above scalar = 2.2069930916815132e-16\n"
     ]
    }
   ],
   "source": [
    "# Computing QQ - Q, Let it be X \n",
    "X = Q @ Q - Q\n",
    "row_wise_sums = np.sum(np.abs(X), axis = 0)\n",
    "print(\"The above scalar = {}\".format(np.max(row_wise_sums)))"
   ]
  },
  {
   "cell_type": "markdown",
   "metadata": {},
   "source": [
    "Since all values in $QQ - Q \\sim 0$, we can say that $Q$ is a idempotent matrix. "
   ]
  },
  {
   "cell_type": "markdown",
   "metadata": {},
   "source": [
    "l. Compute P + Q"
   ]
  },
  {
   "cell_type": "code",
   "execution_count": 87,
   "metadata": {},
   "outputs": [
    {
     "name": "stdout",
     "output_type": "stream",
     "text": [
      "[[ 1.00000e+00 -2.77556e-17 -5.55112e-17 -5.92992e-17 -3.61460e-17\n",
      "  -2.26576e-17]\n",
      " [-2.77556e-17  1.00000e+00 -5.55112e-17 -6.30873e-17 -1.67808e-17\n",
      "  -1.75596e-17]\n",
      " [-5.55112e-17 -5.55112e-17  1.00000e+00 -6.91057e-17 -6.30873e-17\n",
      "  -4.61649e-17]\n",
      " [-5.92992e-17 -6.30873e-17 -6.91057e-17  1.00000e+00 -1.11022e-16\n",
      "  -5.55112e-17]\n",
      " [-3.61460e-17 -1.67808e-17 -6.30873e-17 -1.11022e-16  1.00000e+00\n",
      "   0.00000e+00]\n",
      " [-2.26576e-17 -1.75596e-17 -4.61649e-17 -5.55112e-17  0.00000e+00\n",
      "   1.00000e+00]]\n"
     ]
    }
   ],
   "source": [
    "print(P + Q)"
   ]
  },
  {
   "cell_type": "markdown",
   "metadata": {},
   "source": [
    "### Question 2.\n",
    "\n",
    "Read in the matrix in the file ‘oringp.dat’ (available on Piazza) on the failure of O-rings leading to the\n",
    "Challenger disaster. The columns are flight number, date, number of O-rings, number failed, and temperature\n",
    "at launch. Compute the correlation between number of failures and temperature at launch, deleting the last,\n",
    "missing observation (the disaster)"
   ]
  },
  {
   "cell_type": "code",
   "execution_count": 88,
   "metadata": {},
   "outputs": [
    {
     "data": {
      "text/html": [
       "<div>\n",
       "<style scoped>\n",
       "    .dataframe tbody tr th:only-of-type {\n",
       "        vertical-align: middle;\n",
       "    }\n",
       "\n",
       "    .dataframe tbody tr th {\n",
       "        vertical-align: top;\n",
       "    }\n",
       "\n",
       "    .dataframe thead th {\n",
       "        text-align: right;\n",
       "    }\n",
       "</style>\n",
       "<table border=\"1\" class=\"dataframe\">\n",
       "  <thead>\n",
       "    <tr style=\"text-align: right;\">\n",
       "      <th></th>\n",
       "      <th>FlightNumber</th>\n",
       "      <th>date</th>\n",
       "      <th>no_o_rings</th>\n",
       "      <th>fail</th>\n",
       "      <th>temp</th>\n",
       "    </tr>\n",
       "  </thead>\n",
       "  <tbody>\n",
       "    <tr>\n",
       "      <th>0</th>\n",
       "      <td>1</td>\n",
       "      <td>4/12/81</td>\n",
       "      <td>6</td>\n",
       "      <td>0</td>\n",
       "      <td>66</td>\n",
       "    </tr>\n",
       "    <tr>\n",
       "      <th>1</th>\n",
       "      <td>2</td>\n",
       "      <td>11/12/81</td>\n",
       "      <td>6</td>\n",
       "      <td>1</td>\n",
       "      <td>70</td>\n",
       "    </tr>\n",
       "    <tr>\n",
       "      <th>2</th>\n",
       "      <td>3</td>\n",
       "      <td>3/22/82</td>\n",
       "      <td>6</td>\n",
       "      <td>0</td>\n",
       "      <td>69</td>\n",
       "    </tr>\n",
       "    <tr>\n",
       "      <th>3</th>\n",
       "      <td>5</td>\n",
       "      <td>11/11/82</td>\n",
       "      <td>6</td>\n",
       "      <td>0</td>\n",
       "      <td>68</td>\n",
       "    </tr>\n",
       "    <tr>\n",
       "      <th>4</th>\n",
       "      <td>6</td>\n",
       "      <td>4/04/83</td>\n",
       "      <td>6</td>\n",
       "      <td>0</td>\n",
       "      <td>67</td>\n",
       "    </tr>\n",
       "  </tbody>\n",
       "</table>\n",
       "</div>"
      ],
      "text/plain": [
       "  FlightNumber      date  no_o_rings  fail  temp\n",
       "0            1   4/12/81           6     0    66\n",
       "1            2  11/12/81           6     1    70\n",
       "2            3   3/22/82           6     0    69\n",
       "3            5  11/11/82           6     0    68\n",
       "4            6   4/04/83           6     0    67"
      ]
     },
     "execution_count": 88,
     "metadata": {},
     "output_type": "execute_result"
    }
   ],
   "source": [
    "# Importing the file \n",
    "\n",
    "df = pd.read_csv(\"oringp.dat\", header = None, sep = '\\s+', engine = 'python')\n",
    "df.columns = ['FlightNumber', 'date', 'no_o_rings','fail','temp']\n",
    "df.head()\n",
    "\n",
    "# Dropping the last missing value \n",
    "df = df.dropna(axis = 0)\n",
    "\n",
    "# Converting the failure column to integer\n",
    "df['fail'] = df['fail'].astype(int)\n",
    "\n",
    "# Preview into dataset\n",
    "df.head()\n"
   ]
  },
  {
   "cell_type": "code",
   "execution_count": 89,
   "metadata": {},
   "outputs": [
    {
     "data": {
      "text/plain": [
       "array([[ 1.     , -0.56133],\n",
       "       [-0.56133,  1.     ]])"
      ]
     },
     "execution_count": 89,
     "metadata": {},
     "output_type": "execute_result"
    }
   ],
   "source": [
    "# Finding the correlation between failure and temperature\n",
    "np.corrcoef(df['fail'], df['temp'])"
   ]
  },
  {
   "cell_type": "markdown",
   "metadata": {},
   "source": [
    "Hence we can see that $corr(fail, temp) = -0.56132$"
   ]
  },
  {
   "cell_type": "markdown",
   "metadata": {},
   "source": [
    "### Question 3. \n",
    "Consider the mixed effect model \n",
    "$$\n",
    "y_i = x_i' \\beta + z_i' \\gamma + \\epsilon_i, \\quad i = 1, \\dots, n,\n",
    "$$\n",
    "where $\\epsilon_i \\sim N(0, \\sigma_0^2)$ are independent normal errors, $\\beta \\in \\mathbb{R}^p$ are fixed effects, $\\gamma \\in \\mathbb{R}^q$ are random effects assumed to be $N(0_q, \\sigma_1^2 I_q)$, $\\gamma$ and $\\epsilon_i$ are independent. For simplicity, assume $\\mu_i = x_i' \\beta$. \n",
    "Let $ y = (y_1, \\dots, y_n)'$, $ \\mu = (\\mu_1, \\dots, \\mu_n)'$, \n",
    "$ Z = (z_1, \\dots, z_n)'$, \n",
    "then\n",
    "$ y \\in \\mathbb{R}^{n}$, $ \\mu \\in \\mathbb{R}^n$, $ Z \\in \\mathbb{R}^{n \\times q}$,\n",
    "and \n",
    "$ y \\sim N( \\mu, \\sigma_1^2 ZZ'  + \\sigma_0^2 I_n)$.\n",
    "The log-density function is given by\n",
    "$$\n",
    " -\\frac{n}{2} \\log(2 \\pi) - \\frac{1}{2} \\log (\\det(\\sigma_1^2 ZZ' + \\sigma_0^2 I_n)) - \\frac{1}{2} (y-\\mu)'(\\sigma_1^2 ZZ' + \\sigma_0^2I_n)^{-1} (y-\\mu).\n",
    "$$\n",
    "\n",
    "Please write a function, call it \n",
    "$\\mathsf{dmvnorm\\_lowrank(y, mu, Z, sigma0, sigma1, log = FALSE)}$\n",
    "that evaluates the (log)-density function at a given $y \\in \\mathbb{R}^n$.\n",
    "Choose values for $n (> 5)$ and $q (> 3)$, test your function on simulated data.\n",
    "\n",
    "Notes: \n",
    "1) When $\\mathsf{log = FALSE}$, your function should calculate the log likelihood; when \n",
    "$\\mathsf{log = TRUE}$, your function should calculate the original likelihood function. \n",
    "The default uses $\\mathsf{log = FALSE}$. \n",
    "2) Use the $\\mathsf{np.random.seed}$ function before generating data from a random distribution."
   ]
  },
  {
   "cell_type": "code",
   "execution_count": 90,
   "metadata": {},
   "outputs": [],
   "source": [
    "# Creating new function called dmvnorm_lowrank \n",
    "\n",
    "def dmvnorm_lowrank(y,mu,Z,sigma0,sigma1,log = False):\n",
    "    # Calculating all the terms required in the given log likelihood function function \n",
    "    \n",
    "    #a. Z * Z^T\n",
    "    z_zt = Z @ Z.T\n",
    "    \n",
    "    #b. n \n",
    "    n = y.shape[0]\n",
    "    \n",
    "    #c. sigma0^2 * In\n",
    "    sigma0_identity = sigma0**2 * np.identity(n)\n",
    "    \n",
    "    # Calculating the log density of the function \n",
    "    ldf  = -(n/2) * np.log(2*np.pi) -1/2 * np.log(np.linalg.det(sigma1**2 * z_zt + sigma0_identity)) \n",
    "    - 1/2 * (y - mu).T @ np.linalg.inv((sigma1**2 * z_zt + sigma0_identity)) @ (y - mu)\n",
    "    # Checking whether the function demands the likelihood to be in log space or not\n",
    "    if not log:\n",
    "        return np.exp(ldf)\n",
    "    else:\n",
    "        return ldf"
   ]
  },
  {
   "cell_type": "markdown",
   "metadata": {},
   "source": [
    "For testing, we assume the following constraints: \n",
    "\n",
    "* $n = 100$ , $q = 5$\n",
    "\n",
    "* $\\sigma_0 \\sim$ Random number between 0 and 100 \n",
    "\n",
    "* $\\sigma_1 \\sim$ Random number between 0 and 100 \n",
    "\n",
    "* $\\mu \\sim Uniform(0,10)$\n",
    "\n",
    "* $Z \\sim N (10,2)$ \n",
    "\n",
    "* $y \\sim N(\\mu, \\sigma_1^2 ZZ' + \\sigma_0^2 I_n)$\n",
    "\n",
    "\n"
   ]
  },
  {
   "cell_type": "code",
   "execution_count": 91,
   "metadata": {},
   "outputs": [],
   "source": [
    "# Testing the above function to get the likelihood for random Y and mu\n",
    "\n",
    "# Setting seed as student ID\n",
    "np.random.seed(920211348)\n",
    "\n",
    "# Generating sigma 0 and sigma 1 \n",
    "sigma0 = np.random.randint(100)\n",
    "sigma1 = np.random.randint(100)\n",
    "mu = np.random.uniform(0,10,100)\n",
    "\n",
    "# Generating 500 values from a normal distribution with mean 10 and standard deviation 2\n",
    "Z = np.random.normal(10,2,500).reshape(100,5)\n",
    "\n",
    "# Generating 100 values from the multivariate normal distribution with mean mu and covariance matrix Z @ Z.T\n",
    "y = np.random.multivariate_normal(mu, sigma0**2 * np.identity(100) + sigma1**2 * Z @ Z.T, 1).reshape(100)"
   ]
  },
  {
   "cell_type": "code",
   "execution_count": 92,
   "metadata": {},
   "outputs": [],
   "source": [
    "# Calculating the likelihood for the above generated data \n",
    "\n",
    "#a. Normal Likelihood \n",
    "log_likelihood = dmvnorm_lowrank(y,mu,Z,sigma0,sigma1,log = False)\n",
    "\n",
    "#b. Log Likelihood\n",
    "likelihood = dmvnorm_lowrank(y,mu,Z,sigma0,sigma1,log = True)\n"
   ]
  },
  {
   "cell_type": "code",
   "execution_count": 93,
   "metadata": {},
   "outputs": [
    {
     "data": {
      "text/plain": [
       "7.099157185778012e-187"
      ]
     },
     "execution_count": 93,
     "metadata": {},
     "output_type": "execute_result"
    }
   ],
   "source": [
    "log_likelihood"
   ]
  },
  {
   "cell_type": "code",
   "execution_count": 94,
   "metadata": {},
   "outputs": [
    {
     "data": {
      "text/plain": [
       "-428.62343631911386"
      ]
     },
     "execution_count": 94,
     "metadata": {},
     "output_type": "execute_result"
    }
   ],
   "source": [
    "likelihood"
   ]
  },
  {
   "cell_type": "code",
   "execution_count": 95,
   "metadata": {},
   "outputs": [
    {
     "name": "stdout",
     "output_type": "stream",
     "text": [
      "Scipy log-likelihood: -23.229377872775565\n",
      "Our log-likelihood: -22.838606102844423\n",
      "-----------\n",
      "Scipy likelihood: 8.158482227624129e-11\n",
      "Our likelihood: 1.2059224914128063e-10\n"
     ]
    }
   ],
   "source": [
    "# test the function \n",
    "# set seed \n",
    "import math\n",
    "from scipy.stats import multivariate_normal\n",
    "\n",
    "np.random.seed(1)\n",
    "\n",
    "n = 10\n",
    "sigma0 = 1\n",
    "sigma1 = 2\n",
    "Z = np.random.normal(size=(n,n))\n",
    "C = math.pow(sigma1, 2) * Z @ Z.T + math.pow(sigma0, 2) * np.identity(n)\n",
    "\n",
    "mu = np.ones((n,)) \n",
    "y = np.random.normal(size=(n,))\n",
    "\n",
    "print('Scipy log-likelihood: {}'.format(multivariate_normal.logpdf(y, mean=mu, cov=C)))\n",
    "print('Our log-likelihood: {}'.format(dmvnorm_lowrank(y, mu=mu, Z=Z, sigma0=sigma0, sigma1=sigma1, log=True)))\n",
    "print('-----------')\n",
    "print('Scipy likelihood: {}'.format(multivariate_normal.pdf(y, mean=mu, cov=C)))\n",
    "print('Our likelihood: {}'.format(dmvnorm_lowrank(y, mu=mu, Z=Z, sigma0=sigma0, sigma1=sigma1, log=False)))\n"
   ]
  },
  {
   "cell_type": "code",
   "execution_count": null,
   "metadata": {},
   "outputs": [],
   "source": []
  }
 ],
 "metadata": {
  "interpreter": {
   "hash": "5bea1dba265153f73dd176568fe5adcb617454bd08dac3159439b35e09c34b6f"
  },
  "kernelspec": {
   "display_name": "Python 3.9.6 64-bit",
   "language": "python",
   "name": "python3"
  },
  "language_info": {
   "codemirror_mode": {
    "name": "ipython",
    "version": 3
   },
   "file_extension": ".py",
   "mimetype": "text/x-python",
   "name": "python",
   "nbconvert_exporter": "python",
   "pygments_lexer": "ipython3",
   "version": "3.9.6"
  },
  "orig_nbformat": 4
 },
 "nbformat": 4,
 "nbformat_minor": 2
}
