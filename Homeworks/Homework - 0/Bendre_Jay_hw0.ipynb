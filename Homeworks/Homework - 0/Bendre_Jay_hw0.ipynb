{
 "cells": [
  {
   "cell_type": "markdown",
   "metadata": {},
   "source": [
    "# Homework 0 \n",
    "\n",
    "Author : Jay Bendre\n",
    "\n",
    "Date :  29th March, 2022 "
   ]
  },
  {
   "cell_type": "code",
   "execution_count": 29,
   "metadata": {},
   "outputs": [],
   "source": [
    "# Importing all required libraries\n",
    "import pandas as pd\n",
    "import numpy as np \n",
    "import matplotlib.pyplot as plt"
   ]
  },
  {
   "cell_type": "markdown",
   "metadata": {},
   "source": [
    "### Question 1. \n",
    "\n",
    "Basic Exercises using Numpy, let  $u = (1,2,3,3,2,1)'$ \n",
    "\n",
    "a. Compute $U = I - \\frac{2}{u'u} uu'$"
   ]
  },
  {
   "cell_type": "code",
   "execution_count": 30,
   "metadata": {},
   "outputs": [
    {
     "data": {
      "text/plain": [
       "matrix([[ 0.92857143, -0.14285714, -0.21428571, -0.21428571, -0.14285714,\n",
       "         -0.07142857],\n",
       "        [-0.14285714,  0.71428571, -0.42857143, -0.42857143, -0.28571429,\n",
       "         -0.14285714],\n",
       "        [-0.21428571, -0.42857143,  0.35714286, -0.64285714, -0.42857143,\n",
       "         -0.21428571],\n",
       "        [-0.21428571, -0.42857143, -0.64285714,  0.35714286, -0.42857143,\n",
       "         -0.21428571],\n",
       "        [-0.14285714, -0.28571429, -0.42857143, -0.42857143,  0.71428571,\n",
       "         -0.14285714],\n",
       "        [-0.07142857, -0.14285714, -0.21428571, -0.21428571, -0.14285714,\n",
       "          0.92857143]])"
      ]
     },
     "execution_count": 30,
     "metadata": {},
     "output_type": "execute_result"
    }
   ],
   "source": [
    "# Initializing required u variable \n",
    "u = np.array([1,2,3,3,2,1]).T\n",
    "\n",
    "# Identity Matrix\n",
    "i = np.identity(u.shape[0])\n",
    "\n",
    "# Getting the new transformation \n",
    "U = np.matrix(i - (2/ (u.T @ u)) * np.outer(u,u.T))\n",
    "\n",
    "# Printing the new transformation\n",
    "U"
   ]
  },
  {
   "cell_type": "markdown",
   "metadata": {},
   "source": [
    "b. Let C = $UU$, find the largest and smallest off diagonal elements of C."
   ]
  },
  {
   "cell_type": "code",
   "execution_count": 31,
   "metadata": {},
   "outputs": [
    {
     "name": "stdout",
     "output_type": "stream",
     "text": [
      "Value of C matrix: \n",
      " [[ 1.00000000e+00 -3.50130922e-17 -5.16522766e-17 -5.16522766e-17\n",
      "  -3.50130922e-17 -2.20911724e-17]\n",
      " [-3.50130922e-17  1.00000000e+00 -4.77934019e-17 -4.77934019e-17\n",
      "  -1.45150332e-17 -1.64267692e-17]\n",
      " [-5.16522766e-17 -4.77934019e-17  1.00000000e+00 -8.38331672e-17\n",
      "  -7.55489775e-17 -5.23957295e-17]\n",
      " [-5.16522766e-17 -4.77934019e-17 -8.38331672e-17  1.00000000e+00\n",
      "  -7.55489775e-17 -5.23957295e-17]\n",
      " [-3.50130922e-17 -1.45150332e-17 -7.55489775e-17 -7.55489775e-17\n",
      "   1.00000000e+00 -1.64267692e-17]\n",
      " [-2.20911724e-17 -1.64267692e-17 -5.23957295e-17 -5.23957295e-17\n",
      "  -1.64267692e-17  1.00000000e+00]]\n",
      "Minimum off diagonal element of C is: -8.383316716557304e-17 \n",
      "Maximum off diagonal element of C is: -1.451503316633655e-17\n"
     ]
    }
   ],
   "source": [
    "# Defining C = UU \n",
    "C = U @ U\n",
    "\n",
    "print(\"Value of C matrix: \\n\", C)\n",
    "# Off diagonal elements of C \n",
    "\n",
    "# Generating the mask \n",
    "mask = np.ones(C.shape)\n",
    "# Generating boolean matrix \n",
    "mask = (mask - np.diag(np.ones(C.shape[0]))).astype(np.bool)\n",
    "\n",
    "\n",
    "print(\"Minimum off diagonal element of C is: {} \\nMaximum off diagonal element of C is: {}\".format(\n",
    "    np.amin(C[mask]), np.amax(C[mask])))"
   ]
  },
  {
   "cell_type": "markdown",
   "metadata": {},
   "source": [
    "c. Find largest and smallest diagonal elements of C"
   ]
  },
  {
   "cell_type": "code",
   "execution_count": 32,
   "metadata": {},
   "outputs": [
    {
     "name": "stdout",
     "output_type": "stream",
     "text": [
      "Minimum diagonal element of C is: 0.9999999999999999 \n",
      "Maximum diagonal element of C is: 1.0\n"
     ]
    }
   ],
   "source": [
    "# Extracting diagonal elements from the matrix\n",
    "diag_C = C.diagonal()\n",
    "print(\"Minimum diagonal element of C is: {} \\nMaximum diagonal element of C is: {}\".format(np.min(diag_C), np.max(diag_C)))"
   ]
  },
  {
   "cell_type": "markdown",
   "metadata": {},
   "source": [
    "d. Compute $Uu$"
   ]
  },
  {
   "cell_type": "code",
   "execution_count": 33,
   "metadata": {},
   "outputs": [
    {
     "name": "stdout",
     "output_type": "stream",
     "text": [
      "[[-1. -2. -3. -3. -2. -1.]]\n"
     ]
    }
   ],
   "source": [
    "# Getting the dot product between vector and matrix\n",
    "Uu = U @ u\n",
    "print(Uu)"
   ]
  },
  {
   "cell_type": "markdown",
   "metadata": {},
   "source": [
    "e. Computer the scalar $max_i \\sum_{j} |U_{ij}|$"
   ]
  },
  {
   "cell_type": "code",
   "execution_count": 34,
   "metadata": {},
   "outputs": [
    {
     "name": "stdout",
     "output_type": "stream",
     "text": [
      "The above scalar = 2.2857142857142856\n"
     ]
    }
   ],
   "source": [
    "# Getting rowise sums of the matrix\n",
    "row_wise_sums = np.sum(np.abs(U), axis = 0)\n",
    "print(\"The above scalar = {}\".format(np.max(row_wise_sums)))"
   ]
  },
  {
   "cell_type": "markdown",
   "metadata": {},
   "source": [
    "f. Print third row of U"
   ]
  },
  {
   "cell_type": "code",
   "execution_count": 35,
   "metadata": {},
   "outputs": [
    {
     "name": "stdout",
     "output_type": "stream",
     "text": [
      "Third Row of U matrix: \n",
      " [[-0.21428571 -0.42857143  0.35714286 -0.64285714 -0.42857143 -0.21428571]]\n"
     ]
    }
   ],
   "source": [
    "print(\"Third Row of U matrix: \\n\", U[2,:])"
   ]
  },
  {
   "cell_type": "markdown",
   "metadata": {},
   "source": [
    "g. Print the elements of the second column below the diagonal of U"
   ]
  },
  {
   "cell_type": "code",
   "execution_count": 36,
   "metadata": {},
   "outputs": [
    {
     "name": "stdout",
     "output_type": "stream",
     "text": [
      "Elements in the second column below the diagonal: \n",
      " [[-0.42857143]\n",
      " [-0.42857143]\n",
      " [-0.28571429]\n",
      " [-0.14285714]]\n"
     ]
    }
   ],
   "source": [
    "# Extracting the second column and then selecting only elements below the diagonal\n",
    "second_col_U = U[:,1][2:]\n",
    "print(\"Elements in the second column below the diagonal: \\n\", second_col_U)"
   ]
  },
  {
   "cell_type": "markdown",
   "metadata": {},
   "source": [
    "h. Let A be first 3 columns of U, Compute $P = AA'$"
   ]
  },
  {
   "cell_type": "code",
   "execution_count": 37,
   "metadata": {},
   "outputs": [
    {
     "name": "stdout",
     "output_type": "stream",
     "text": [
      "Matrix P: \n",
      " [[ 9.28571429e-01 -1.42857143e-01 -2.14285714e-01 -3.54025199e-17\n",
      "  -2.88884563e-17 -1.44442281e-17]\n",
      " [-1.42857143e-01  7.14285714e-01 -4.28571429e-01 -1.52938886e-17\n",
      "  -2.26576127e-18 -1.13288064e-18]\n",
      " [-2.14285714e-01 -4.28571429e-01  3.57142857e-01 -4.07837029e-17\n",
      "  -4.30494642e-17 -2.15247321e-17]\n",
      " [-3.54025199e-17 -1.52938886e-17 -4.07837029e-17  6.42857143e-01\n",
      "   4.28571429e-01  2.14285714e-01]\n",
      " [-2.88884563e-17 -2.26576127e-18 -4.30494642e-17  4.28571429e-01\n",
      "   2.85714286e-01  1.42857143e-01]\n",
      " [-1.44442281e-17 -1.13288064e-18 -2.15247321e-17  2.14285714e-01\n",
      "   1.42857143e-01  7.14285714e-02]]\n"
     ]
    }
   ],
   "source": [
    "# Extracting first 3 columns\n",
    "A = np.matrix(U[:,:3])\n",
    "\n",
    "# Calculating P = A A^T\n",
    "P = np.matrix(A @ A.T)\n",
    "\n",
    "# Printing the matrix\n",
    "print(\"Matrix P: \\n\", P)"
   ]
  },
  {
   "cell_type": "markdown",
   "metadata": {},
   "source": [
    "i. Show that P is idempotent by recomputing (e) with $PP - P$"
   ]
  },
  {
   "cell_type": "code",
   "execution_count": 38,
   "metadata": {},
   "outputs": [
    {
     "name": "stdout",
     "output_type": "stream",
     "text": [
      "The above scalar = 2.43852557194454e-16\n"
     ]
    }
   ],
   "source": [
    "# Computing PP - P, Let it be X \n",
    "X = P @ P - P\n",
    "row_wise_sums = np.sum(np.abs(X), axis = 0)\n",
    "print(\"The above scalar = {}\".format(np.max(row_wise_sums)))"
   ]
  },
  {
   "cell_type": "markdown",
   "metadata": {},
   "source": [
    "Since all values in $PP - P \\sim 0$, we can say that $P$ is a idempotent matrix. "
   ]
  },
  {
   "cell_type": "markdown",
   "metadata": {},
   "source": [
    "j. Let B be the last 3 columns of U, compute $Q = BB'$"
   ]
  },
  {
   "cell_type": "code",
   "execution_count": 39,
   "metadata": {},
   "outputs": [
    {
     "name": "stdout",
     "output_type": "stream",
     "text": [
      "Matrix Q: \n",
      " [[ 7.14285714e-02  1.42857143e-01  2.14285714e-01 -2.38967009e-17\n",
      "  -7.25751658e-18 -8.21338462e-18]\n",
      " [ 1.42857143e-01  2.85714286e-01  4.28571429e-01 -4.77934019e-17\n",
      "  -1.45150332e-17 -1.64267692e-17]\n",
      " [ 2.14285714e-01  4.28571429e-01  6.42857143e-01 -2.83220159e-17\n",
      "  -2.00378263e-17 -2.46401539e-17]\n",
      " [-2.38967009e-17 -4.77934019e-17 -2.83220159e-17  3.57142857e-01\n",
      "  -4.28571429e-01 -2.14285714e-01]\n",
      " [-7.25751658e-18 -1.45150332e-17 -2.00378263e-17 -4.28571429e-01\n",
      "   7.14285714e-01 -1.42857143e-01]\n",
      " [-8.21338462e-18 -1.64267692e-17 -2.46401539e-17 -2.14285714e-01\n",
      "  -1.42857143e-01  9.28571429e-01]]\n"
     ]
    }
   ],
   "source": [
    "# Getting B matrix from last 3 columns of U \n",
    "B = np.matrix(U[:,-3:])\n",
    "\n",
    "# Computing Q = B B^T\n",
    "Q = np.matrix(B @ B.T)\n",
    "\n",
    "# Printing the matrix\n",
    "print(\"Matrix Q: \\n\", Q)"
   ]
  },
  {
   "cell_type": "markdown",
   "metadata": {},
   "source": [
    "k. Show that $Q$ is idempotent by recomputing (e) with $QQ - Q$"
   ]
  },
  {
   "cell_type": "code",
   "execution_count": 40,
   "metadata": {},
   "outputs": [
    {
     "name": "stdout",
     "output_type": "stream",
     "text": [
      "The above scalar = 2.2069930916815132e-16\n"
     ]
    }
   ],
   "source": [
    "# Computing QQ - Q, Let it be X \n",
    "X = Q @ Q - Q\n",
    "row_wise_sums = np.sum(np.abs(X), axis = 0)\n",
    "print(\"The above scalar = {}\".format(np.max(row_wise_sums)))"
   ]
  },
  {
   "cell_type": "markdown",
   "metadata": {},
   "source": [
    "Since all values in $QQ - Q \\sim 0$, we can say that $Q$ is a idempotent matrix. "
   ]
  },
  {
   "cell_type": "markdown",
   "metadata": {},
   "source": [
    "l. Compute P + Q"
   ]
  },
  {
   "cell_type": "code",
   "execution_count": 41,
   "metadata": {},
   "outputs": [
    {
     "name": "stdout",
     "output_type": "stream",
     "text": [
      "[[ 1.00000000e+00 -2.77555756e-17 -5.55111512e-17 -5.92992209e-17\n",
      "  -3.61459728e-17 -2.26576127e-17]\n",
      " [-2.77555756e-17  1.00000000e+00 -5.55111512e-17 -6.30872905e-17\n",
      "  -1.67807944e-17 -1.75596499e-17]\n",
      " [-5.55111512e-17 -5.55111512e-17  1.00000000e+00 -6.91057189e-17\n",
      "  -6.30872905e-17 -4.61648860e-17]\n",
      " [-5.92992209e-17 -6.30872905e-17 -6.91057189e-17  1.00000000e+00\n",
      "  -1.11022302e-16 -5.55111512e-17]\n",
      " [-3.61459728e-17 -1.67807944e-17 -6.30872905e-17 -1.11022302e-16\n",
      "   1.00000000e+00  0.00000000e+00]\n",
      " [-2.26576127e-17 -1.75596499e-17 -4.61648860e-17 -5.55111512e-17\n",
      "   0.00000000e+00  1.00000000e+00]]\n"
     ]
    }
   ],
   "source": [
    "print(P + Q)"
   ]
  },
  {
   "cell_type": "markdown",
   "metadata": {},
   "source": [
    "### Question 2.\n",
    "\n",
    "Read in the matrix in the file ‘oringp.dat’ (available on Piazza) on the failure of O-rings leading to the\n",
    "Challenger disaster. The columns are flight number, date, number of O-rings, number failed, and temperature\n",
    "at launch. Compute the correlation between number of failures and temperature at launch, deleting the last,\n",
    "missing observation (the disaster)"
   ]
  },
  {
   "cell_type": "code",
   "execution_count": 42,
   "metadata": {},
   "outputs": [
    {
     "data": {
      "text/html": [
       "<div>\n",
       "<style scoped>\n",
       "    .dataframe tbody tr th:only-of-type {\n",
       "        vertical-align: middle;\n",
       "    }\n",
       "\n",
       "    .dataframe tbody tr th {\n",
       "        vertical-align: top;\n",
       "    }\n",
       "\n",
       "    .dataframe thead th {\n",
       "        text-align: right;\n",
       "    }\n",
       "</style>\n",
       "<table border=\"1\" class=\"dataframe\">\n",
       "  <thead>\n",
       "    <tr style=\"text-align: right;\">\n",
       "      <th></th>\n",
       "      <th>FlightNumber</th>\n",
       "      <th>date</th>\n",
       "      <th>no_o_rings</th>\n",
       "      <th>fail</th>\n",
       "      <th>temp</th>\n",
       "    </tr>\n",
       "  </thead>\n",
       "  <tbody>\n",
       "    <tr>\n",
       "      <th>0</th>\n",
       "      <td>1</td>\n",
       "      <td>4/12/81</td>\n",
       "      <td>6</td>\n",
       "      <td>0</td>\n",
       "      <td>66</td>\n",
       "    </tr>\n",
       "    <tr>\n",
       "      <th>1</th>\n",
       "      <td>2</td>\n",
       "      <td>11/12/81</td>\n",
       "      <td>6</td>\n",
       "      <td>1</td>\n",
       "      <td>70</td>\n",
       "    </tr>\n",
       "    <tr>\n",
       "      <th>2</th>\n",
       "      <td>3</td>\n",
       "      <td>3/22/82</td>\n",
       "      <td>6</td>\n",
       "      <td>0</td>\n",
       "      <td>69</td>\n",
       "    </tr>\n",
       "    <tr>\n",
       "      <th>3</th>\n",
       "      <td>5</td>\n",
       "      <td>11/11/82</td>\n",
       "      <td>6</td>\n",
       "      <td>0</td>\n",
       "      <td>68</td>\n",
       "    </tr>\n",
       "    <tr>\n",
       "      <th>4</th>\n",
       "      <td>6</td>\n",
       "      <td>4/04/83</td>\n",
       "      <td>6</td>\n",
       "      <td>0</td>\n",
       "      <td>67</td>\n",
       "    </tr>\n",
       "  </tbody>\n",
       "</table>\n",
       "</div>"
      ],
      "text/plain": [
       "  FlightNumber      date  no_o_rings  fail  temp\n",
       "0            1   4/12/81           6     0    66\n",
       "1            2  11/12/81           6     1    70\n",
       "2            3   3/22/82           6     0    69\n",
       "3            5  11/11/82           6     0    68\n",
       "4            6   4/04/83           6     0    67"
      ]
     },
     "execution_count": 42,
     "metadata": {},
     "output_type": "execute_result"
    }
   ],
   "source": [
    "# Importing the file \n",
    "\n",
    "df = pd.read_csv(\"oringp.dat\", header = None, sep = '\\s+', engine = 'python')\n",
    "df.columns = ['FlightNumber', 'date', 'no_o_rings','fail','temp']\n",
    "df.head()\n",
    "\n",
    "# Dropping the last missing value \n",
    "df = df.dropna(axis = 0)\n",
    "\n",
    "# Converting the failure column to integer\n",
    "df['fail'] = df['fail'].astype(int)\n",
    "\n",
    "# Preview into dataset\n",
    "df.head()\n"
   ]
  },
  {
   "cell_type": "code",
   "execution_count": 43,
   "metadata": {},
   "outputs": [
    {
     "data": {
      "text/plain": [
       "array([[ 1.        , -0.56132843],\n",
       "       [-0.56132843,  1.        ]])"
      ]
     },
     "execution_count": 43,
     "metadata": {},
     "output_type": "execute_result"
    }
   ],
   "source": [
    "# Finding the correlation between failure and temperature\n",
    "np.corrcoef(df['fail'], df['temp'])"
   ]
  },
  {
   "cell_type": "markdown",
   "metadata": {},
   "source": [
    "Hence we can see that $corr(fail, temp) = -0.56132$"
   ]
  },
  {
   "cell_type": "markdown",
   "metadata": {},
   "source": [
    "### Question 3. \n",
    "Consider the mixed effect model \n",
    "$$\n",
    "y_i = x_i' \\beta + z_i' \\gamma + \\epsilon_i, \\quad i = 1, \\dots, n,\n",
    "$$\n",
    "where $\\epsilon_i \\sim N(0, \\sigma_0^2)$ are independent normal errors, $\\beta \\in \\mathbb{R}^p$ are fixed effects, $\\gamma \\in \\mathbb{R}^q$ are random effects assumed to be $N(0_q, \\sigma_1^2 I_q)$, $\\gamma$ and $\\epsilon_i$ are independent. For simplicity, assume $\\mu_i = x_i' \\beta$. \n",
    "Let $ y = (y_1, \\dots, y_n)'$, $ \\mu = (\\mu_1, \\dots, \\mu_n)'$, \n",
    "$ Z = (z_1, \\dots, z_n)'$, \n",
    "then\n",
    "$ y \\in \\mathbb{R}^{n}$, $ \\mu \\in \\mathbb{R}^n$, $ Z \\in \\mathbb{R}^{n \\times q}$,\n",
    "and \n",
    "$ y \\sim N( \\mu, \\sigma_1^2 ZZ'  + \\sigma_0^2 I_n)$.\n",
    "The log-density function is given by\n",
    "$$\n",
    " -\\frac{n}{2} \\log(2 \\pi) - \\frac{1}{2} \\log (\\det(\\sigma_1^2 ZZ' + \\sigma_0^2 I_n)) - \\frac{1}{2} (y-\\mu)'(\\sigma_1^2 ZZ' + \\sigma_0^2I_n)^{-1} (y-\\mu).\n",
    "$$\n",
    "\n",
    "Please write a function, call it \n",
    "$\\mathsf{dmvnorm\\_lowrank(y, mu, Z, sigma0, sigma1, log = FALSE)}$\n",
    "that evaluates the (log)-density function at a given $y \\in \\mathbb{R}^n$.\n",
    "Choose values for $n (> 5)$ and $q (> 3)$, test your function on simulated data.\n",
    "\n",
    "Notes: \n",
    "1) When $\\mathsf{log = FALSE}$, your function should calculate the log likelihood; when \n",
    "$\\mathsf{log = TRUE}$, your function should calculate the original likelihood function. \n",
    "The default uses $\\mathsf{log = FALSE}$. \n",
    "2) Use the $\\mathsf{np.random.seed}$ function before generating data from a random distribution."
   ]
  },
  {
   "cell_type": "code",
   "execution_count": 44,
   "metadata": {},
   "outputs": [],
   "source": [
    "# Creating new function called dmvnorm_lowrank \n",
    "\n",
    "def dmvnorm_lowrank(y,mu,Z,sigma0,sigma1,log = False):\n",
    "    # Calculating all the terms required in the given log likelihood function function \n",
    "    \n",
    "    #a. Z * Z^T\n",
    "    z_zt = Z @ Z.T\n",
    "    \n",
    "    #b. n \n",
    "    n = y.shape[0]\n",
    "    \n",
    "    #c. sigma0^2 * In\n",
    "    sigma0_identity = sigma0**2 * np.identity(n)\n",
    "    \n",
    "    # Calculating the log density of the function \n",
    "    ldf  = -(n/2) * np.log(2*np.pi) -1/2 * np.log(np.linalg.det(sigma1**2 * z_zt + sigma0_identity)) - 1/2 * (y - mu).T @ np.linalg.inv((sigma1**2 * z_zt + sigma0_identity)) @ (y - mu)\n",
    "    \n",
    "    # Checking whether the function demands the likelihood to be in log space or not\n",
    "    if log:\n",
    "        return np.exp(ldf)\n",
    "    else:\n",
    "        return ldf"
   ]
  },
  {
   "cell_type": "markdown",
   "metadata": {},
   "source": [
    "For testing, we assume the following constraints: \n",
    "\n",
    "* $n = 100$ , $q = 5$\n",
    "\n",
    "* $\\sigma_0 \\sim$ Random number between 0 and 100 \n",
    "\n",
    "* $\\sigma_1 \\sim$ Random number between 0 and 100 \n",
    "\n",
    "* $\\mu \\sim Uniform(0,10)$\n",
    "\n",
    "* $Z \\sim N (10,2)$ \n",
    "\n",
    "* $y \\sim N(\\mu, \\sigma_1^2 ZZ' + \\sigma_0^2 I_n)$\n",
    "\n",
    "\n"
   ]
  },
  {
   "cell_type": "code",
   "execution_count": 45,
   "metadata": {},
   "outputs": [],
   "source": [
    "# Testing the above function to get the likelihood for random Y and mu\n",
    "\n",
    "# Generating Z matrix with n = 100 and q = 5 \n",
    "np.random.seed(920211348)\n",
    "\n",
    "# Generating sigma 0 and sigma 1 \n",
    "sigma0 = np.random.randint(100)\n",
    "sigma1 = np.random.randint(100)\n",
    "mu = np.random.uniform(0,10,100)\n",
    "\n",
    "# Generating 500 values from a normal distribution with mean 10 and standard deviation 2\n",
    "Z = np.random.normal(10,2,500).reshape(100,5)\n",
    "\n",
    "# Generating 100 values from the multivariate normal distribution with mean mu and covariance matrix Z @ Z.T\n",
    "y = np.random.multivariate_normal(mu, sigma1**2 * np.identity(100) + sigma0**2 * Z @ Z.T, 1).reshape(100,1)"
   ]
  },
  {
   "cell_type": "code",
   "execution_count": 46,
   "metadata": {},
   "outputs": [],
   "source": [
    "# Calculating the likelihood for the above generated data \n",
    "\n",
    "#a. Log Likelihood \n",
    "log_likelihood = dmvnorm_lowrank(y,mu,Z,sigma0,sigma1,log = False)\n",
    "\n",
    "#b. Normal Likelihood\n",
    "likelihood = dmvnorm_lowrank(y,mu,Z,sigma0,sigma1,log = True)\n"
   ]
  }
 ],
 "metadata": {
  "interpreter": {
   "hash": "5bea1dba265153f73dd176568fe5adcb617454bd08dac3159439b35e09c34b6f"
  },
  "kernelspec": {
   "display_name": "Python 3.9.6 64-bit",
   "language": "python",
   "name": "python3"
  },
  "language_info": {
   "codemirror_mode": {
    "name": "ipython",
    "version": 3
   },
   "file_extension": ".py",
   "mimetype": "text/x-python",
   "name": "python",
   "nbconvert_exporter": "python",
   "pygments_lexer": "ipython3",
   "version": "3.9.6"
  },
  "orig_nbformat": 4
 },
 "nbformat": 4,
 "nbformat_minor": 2
}
