{
 "cells": [
  {
   "cell_type": "markdown",
   "metadata": {},
   "source": [
    "# STA 208: Homework 1 (Do not distribute)\n",
    "\n",
    "## Due 04/24/2022 midnight (11:59pm)\n",
    "\n",
    "__Instructions:__ \n",
    "\n",
    "1. Submit your homework using one file name ”LastName_FirstName hw1.html” on canvas. \n",
    "2. The written portions can be either done in markdown and TeX in new cells or written by hand and scanned. Using TeX is strongly preferred. However, if you have scanned solutions for handwriting, you can submit a zip file. Please make sure your handwriting is clear and readable and your scanned files are displayed properly in your jupyter notebook. \n",
    "3. Your code should be readable; writing a piece of code should be compared to writing a page of a book. Adopt the one-statement-per-line rule. Consider splitting a lengthy statement into multiple lines to improve readability. (You will lose one point for each line that does not follow the one-statementper-line rule)\n",
    "4. To help understand and maintain code, you should always add comments to explain your code. (homework with no comments will receive 0 points). For a very long comment, please break it into multiple lines.\n",
    "5. In your Jupyter Notebook, put your answers in new cells after each exercise. You can make as many new cells as you like. Use code cells for code and Markdown cells for text.\n",
    "6. Please make sure to print out the necessary results to avoid losing points. We should not run your code to figure out your answers. \n",
    "7. However, also make sure we are able to open this notebook and run everything here by running the cells in sequence; in case that the TA wants to check the details.\n",
    "8. You will be graded on correctness of your math, code efficiency and succinctness, and conclusions and modelling decisions\n"
   ]
  },
  {
   "cell_type": "markdown",
   "metadata": {},
   "source": [
    "### Exercise 1 (Empirical risk minimization) (20 pts, 5 pts each)\n",
    "\n",
    "Consider Poisson model with rate parameter $\\lambda$ which has PMF,\n",
    "$$\n",
    "p(y|\\lambda) = \\frac{\\lambda^y}{y!} e^{-\\lambda},\n",
    "$$\n",
    "where $y = 0,1,\\ldots$ is some count variable.\n",
    "In Poison regression, we model $\\lambda = e^{\\beta^\\top x}$ to obtain $p(y | x,\\beta)$."
   ]
  },
  {
   "cell_type": "markdown",
   "metadata": {},
   "source": [
    "1. Let the loss function for Poisson regression be $\\ell_i(\\beta) \\propto - \\log p(y_i | x_i, \\beta)$ for a dataset consisting of predictor variables and count values $\\{x_i,y_i\\}_{i=1}^n$.  Here $\\propto$ means that we disregard any additive terms that are not dependent on $\\beta$.  Write an expression for $\\ell_i$ and derive its gradient. \n",
    "\n",
    "__Solution:__\n",
    "\n",
    "Based on the above expression, we can find the log density of the poisson distribution after substituting $\\lambda = e^{\\beta^Tx}$ back into the probability function. On doing so, we get the density function as: \n",
    "\n",
    "$$\n",
    "p(y|x,\\beta) = \\frac{(e^{\\beta^Tx})^y}{y!} e^{-e^{\\beta^Tx}}\n",
    "$$\n",
    "\n",
    "On taking the log of this, we get:\n",
    "\n",
    "$$\n",
    "\\log p(y|x,\\beta) = y\\beta^Tx - \\log(y!) - {e^{\\beta^Tx}}\n",
    "$$\n",
    "\n",
    "Based on the definition of the $\\alpha$ proportionality, we just ignore the additive terms not dependent on $\\beta$ to get the loss function which is given as:\n",
    "\n",
    "$$\n",
    "l_i(\\beta) = -\\log p(y_i | x_i, \\beta) = - (y_i\\beta^Tx_i - e^{\\beta^Tx_i}) = e^{\\beta^Tx_i} - y_i\\beta^Tx_i\n",
    "$$\n",
    "\n",
    "The gradient of this loss function is given as:\n",
    "$$\n",
    "\\frac{\\partial l_i(\\beta)}{\\partial \\beta} = x_i (e^{\\beta^Tx_i} - y_i)\n",
    "$$"
   ]
  },
  {
   "cell_type": "markdown",
   "metadata": {},
   "source": [
    "2. Show that the empirical risk $R_n(\\beta)$ is a convex function of $\\beta$.\n",
    "\n",
    "__Solution:__\n",
    "\n",
    "The risk function $R_n(\\beta)$ is defined as summation of loss functions for each data point. It is formally defined as:\n",
    "\n",
    "$$\n",
    "R_n(\\beta) = \\frac{1}{n} \\sum_{i=1}^n l_i(\\beta)\n",
    "$$\n",
    "\n",
    "In order to show that the risk function is convex, we can use the fact that if loss function is convex, then the risk function is convex as risk function is a linear combination or sum of the loss functions at every 'i'.\n",
    "\n",
    "Now in order to show the loss function is convex, we have to show that the double derivative of the loss function is $\\geq 0$.\n",
    "\n",
    "From part 1, we have the gradient as:\n",
    "\n",
    "$$\n",
    "\\frac{\\partial l_i(\\beta)}{\\partial \\beta} = x_i (e^{\\beta^Tx_i} - y_i)\n",
    "$$\n",
    "\n",
    "Taking the double derivate of the above expression as:\n",
    "\n",
    "$$\n",
    "\\frac{\\partial^2 l_i(\\beta)}{\\partial \\beta^2} = x_i^Tx_i(e^{\\beta^Tx_i}) \\geq 0\n",
    "$$\n",
    "\n",
    "Since for any values of $x_i$, the double derivative would be greater than 0, we can conclude that the loss function is convex. \n",
    "\n",
    "Since the loss function is convex and the risk function is the sum of loss functions, we can conclude that the risk function is convex as well."
   ]
  },
  {
   "cell_type": "markdown",
   "metadata": {},
   "source": [
    "3. Consider the mapping $F_\\eta(\\beta) = \\beta - \\eta \\nabla R_n(\\beta)$ which is the iteration of gradient descent ($\\eta>0$ is called the learning parameter).  Show that at the minimizer of $R_n$, $\\hat \\beta$, we have that $F(\\hat \\beta) = \\hat \\beta$.\n",
    "\n",
    "__Solution:__\n",
    "\n",
    "In order to show that at the minimizer of $R_n$, $\\hat \\beta$, we have that $F(\\hat \\beta) = \\hat \\beta$, we have to show that the gradient of the risk function is zero at the minimizer of $R_n$.\n",
    "\n",
    "$$\n",
    "\\frac{\\partial R_n(\\beta)}{\\partial \\beta} = \\frac{\\partial}{\\partial \\beta}(\\frac{1}{n} \\sum_{i=1}^n l_i(\\beta)) = \\frac{1}{n} \\sum_{i=1}^n \\frac{\\partial}{\\partial \\beta} l_i(\\beta)\n",
    "$$\n",
    "\n",
    "$$\n",
    " = \\frac{1}{n} \\sum_{i=1}^n x_i (e^{\\beta^Tx_i} - y_i) \n",
    "$$\n",
    "\n",
    "To minimize this, we need to set the above equation to 0 in order to get the estimate $\\hat{\\beta}$ ie. \n",
    "\n",
    "$$\n",
    "\\frac{1}{n} \\sum_{i=1}^n x_i (e^{\\beta^Tx_i} - y_i) = 0\n",
    "$$\n",
    "\n",
    "$$\n",
    " e^{\\hat{\\beta}^Tx_i} - y_i = 0\n",
    "$$\n",
    "\n",
    "Taking the log on both the sides we get\n",
    "\n",
    "$$\n",
    "\\hat{\\beta}^Tx_i - \\log y_i = 0 \n",
    "$$\n",
    "\n",
    "Therefore, we have \n",
    "$$\n",
    "\\hat{\\beta}^T = \\log y_i x_i^{-1}\n",
    "$$\n",
    "\n",
    "We know as a fact that since the $R_n(\\beta)$ is convex, the gradient of the risk function is zero at the minimizer of $R_n$. Therefore, we can conclude that the estimate $\\hat{\\beta}$ is the minimizer of $R_n$.\n",
    "\n",
    "At the minimizer of $R_n$, we have that $F(\\hat \\beta) = \\hat \\beta$, as $\\nabla = 0 |_{\\beta = \\hat{\\beta}}$ as we can see from the above calculations."
   ]
  },
  {
   "cell_type": "markdown",
   "metadata": {},
   "source": [
    "4. I have a script to simulate from this model below.  Implement the gradient descent algorithm above and show that with enough data ($n$ large enough) the estimated $\\hat \\beta$ approaches the true $\\beta$ (you can look at the sum of square error between these two vectors)."
   ]
  },
  {
   "cell_type": "markdown",
   "metadata": {},
   "source": [
    "__Solution__:"
   ]
  },
  {
   "cell_type": "code",
   "execution_count": 1,
   "metadata": {},
   "outputs": [],
   "source": [
    "# Importing the required libraries for question 1\n",
    "import numpy as np\n",
    "import matplotlib.pyplot as plt"
   ]
  },
  {
   "cell_type": "code",
   "execution_count": 2,
   "metadata": {},
   "outputs": [],
   "source": [
    "## Simulate from the Poisson regression model (use y,X)\n",
    "np.random.seed(2022)\n",
    "n, p = 1000,20\n",
    "X = np.random.normal(0,1,size = (n,p))\n",
    "beta = np.random.normal(0,.2,size = (p))\n",
    "lamb = np.exp(X @ beta)\n",
    "y = np.random.poisson(lamb)"
   ]
  },
  {
   "cell_type": "code",
   "execution_count": 3,
   "metadata": {},
   "outputs": [],
   "source": [
    "# Defining gradient descent function\n",
    "def gradient_descent(X,y,eta,maxiter = 10000):\n",
    "    \"\"\"\n",
    "    Summary: \n",
    "    The gradient descent function takes in the X,y,eta and\n",
    "    maxiter as inputs and returns the optimal beta.\n",
    "    It initially starts from a random beta and tries to approximate\n",
    "    F(beta) = beta hat\n",
    "\n",
    "    Args:\n",
    "        X (np.array): n x p matrix of covariates\n",
    "        y (np.array): n x 1 vector of response\n",
    "        eta (np.float64): Learning rate\n",
    "        maxiter (int, optional): Iterations for which the approximation is done. \n",
    "        Defaults to 1000.\n",
    "    \"\"\"\n",
    "    \n",
    "    # Defining the initial beta \n",
    "    random_beta = np.random.normal(0,0.2,size = (p))\n",
    "    # Empty array to store the beta values\n",
    "    betas = np.zeros((maxiter,20))\n",
    "    \n",
    "    for i in range(maxiter):\n",
    "        # Getting the predictions\n",
    "        predictions = np.exp(X @ random_beta)\n",
    "    \n",
    "        # Computing the gradient descent beta for the ith iteration\n",
    "        random_beta = random_beta - eta * 1/(X.shape[0]) * X.T @ (predictions - y)\n",
    "        # Storing the beta values \n",
    "        betas[i,:] = random_beta        \n",
    "    \n",
    "    # returning the all obtained betas\n",
    "    return betas"
   ]
  },
  {
   "cell_type": "code",
   "execution_count": 4,
   "metadata": {},
   "outputs": [],
   "source": [
    "# Checking for various learning rates that might be suitable for the \n",
    "# problem\n",
    "eta = [10 ** -x for x in range(1,6)]\n",
    "\n",
    "# Getting the mse for all etas\n",
    "overall_mse = []\n",
    "for e in eta:\n",
    "    # Getting the estimates\n",
    "    estimated_beta = gradient_descent(X,y,e)\n",
    "    # Storing the mses at ebery iteration\n",
    "    mse = []\n",
    "    for estimate in estimated_beta:\n",
    "        mse.append(((estimate - beta) ** 2).mean())\n",
    "    \n",
    "    # Appending the mse for the particular eta\"\n",
    "    overall_mse.append(mse)"
   ]
  },
  {
   "cell_type": "code",
   "execution_count": 5,
   "metadata": {},
   "outputs": [
    {
     "data": {
      "text/plain": [
       "<matplotlib.legend.Legend at 0x1e7ea3ee760>"
      ]
     },
     "execution_count": 5,
     "metadata": {},
     "output_type": "execute_result"
    },
    {
     "data": {
      "image/png": "[encoded data removed]",
      "text/plain": [
       "<Figure size 432x288 with 1 Axes>"
      ]
     },
     "metadata": {
      "needs_background": "light"
     },
     "output_type": "display_data"
    }
   ],
   "source": [
    "# Getting a plot for every eta value and seeing how quickly does \n",
    "# the beta converge\n",
    "for mse in overall_mse:\n",
    "    # Plotting the mse vs iteration\n",
    "    plt.plot(range(10000), mse)\n",
    "plt.xlabel('Iterations')\n",
    "plt.ylabel('MSE')\n",
    "plt.legend(eta)"
   ]
  },
  {
   "cell_type": "markdown",
   "metadata": {},
   "source": [
    "From the above, we can conclude that the gradient descent algorithm converges to the true $\\beta$ as the learning rate $\\eta$ is small enough. In this case, the best seems to be $\\eta = 0.001$ where it converges very smoothly between 0 and 2000 iterations."
   ]
  },
  {
   "cell_type": "markdown",
   "metadata": {},
   "source": [
    "### Exercise 2 (Regression and OLS) (35 pts, 5 pts each)\n",
    "\n",
    "Consider the regression setting in which $x_i \\in \\mathbb R^p$ and $y_i \\in \\mathbb R$, for $i=1,\\ldots,n$ and $p < n$."
   ]
  },
  {
   "cell_type": "markdown",
   "metadata": {},
   "source": [
    "1. For a given regressor, let $\\hat y_i$ be prediction given $x_i$, and $\\hat y$ be the vector form.  Show that linear regression can be written in the form\n",
    "$$\n",
    "\\hat y = H y,\n",
    "$$\n",
    "where $H$ is dependent on $X$ (the matrix of where each row is $x_i$), assuming that $p < n$ and $X$ is full rank.  Give an expression for $H$ or an algorithm for computing $H$. \n",
    "\n",
    "__Solution:__\n",
    "\n",
    "Given, $\\hat y = H y$, in general for any $p < n$, we can write the linear regression as: \n",
    "\n",
    "The predictions $\\hat y$ are given by $X \\hat \\beta$ where $X$ is the matrix of where each row is $x_i$ and $\\hat \\beta$ is the vector of estimated coefficients.\n",
    "\n",
    "$$\n",
    "\\hat y = X \\hat \\beta\n",
    "$$\n",
    "\n",
    "By the OLS solution we know that $\\hat \\beta = (X^T X)^{-1} X^T y $. Substituting the above expression for $\\hat \\beta$ we get:\n",
    "\n",
    "$$\n",
    "\\hat y = X \\hat \\beta = X (X^T X)^{-1} X^T y\n",
    "$$\n",
    "\n",
    "To find the $\\hat \\beta$, we can use the OLS solution. where we try to minimize the following:\n",
    "\n",
    "$$\n",
    "argmin_{} \\|y - X\\beta\\|_2^2\n",
    "$$\n",
    "\n",
    "$$\n",
    " = argmin (y - X\\beta)^T (y - X\\beta)\n",
    "$$\n",
    "\n",
    "$$\n",
    " = argmin (y^Ty - 2\\beta^TX^Ty + \\beta^T X^T X \\beta)\n",
    "$$\n",
    "\n",
    "On taking the derivative of the above expression, we get:\n",
    "$$\n",
    "\\hat \\beta = (X^T X)^{-1} X^T y\n",
    "$$\n",
    "Correlating with the given expression $\\hat y = Hy$, we get:\n",
    "\n",
    "$$\n",
    "H = X (X^T X)^{-1}X^T\n",
    "$$"
   ]
  },
  {
   "cell_type": "markdown",
   "metadata": {},
   "source": [
    "2. Assuming $p < n$ and $X$ is full rank, let $X = U D V^\\top$ be the thin singular value decomposition where $U$ is $n \\times p$, and $V, D$ is $p \\times p$ ($D$ is diagonal). \n",
    "    - a) Derive an expression for the OLS coefficients $\\beta = A b$ such that $A$ is $p \\times p$ and depends on $V$ and $D$, and $b$ is a $p$ vector and does not depend on $D$.\n",
    "\n",
    "    __Solution:__\n",
    "    We know that the OLS coefficients are given by:\n",
    "    $$\n",
    "    X \\beta = y\n",
    "    $$\n",
    "\n",
    "    $$\n",
    "    UDV^T \\beta = y\n",
    "    $$\n",
    "\n",
    "    Multiplying by U^T on both the sides and by property of SVD we know that $UU^T = I$, we get\n",
    "\n",
    "    $$\n",
    "    U^T (UDV^T) \\beta = (UU^T)DV^T \\beta = DV^T \\beta = U^T y\n",
    "    $$\n",
    "   \n",
    "   Since D is a singular matrix, we can take the inverse of D and multiply it by $V$ to get the OLS coefficients.\n",
    "\n",
    "   $$\n",
    "   V^T \\beta = D^{-1} U^T y\n",
    "   $$\n",
    "\n",
    "   $$\n",
    "   VV^T \\beta = VD^{-1} U^T y\n",
    "   $$\n",
    "\n",
    "   $$\n",
    "   \\beta = VD^{-1} U^T y\n",
    "   $$\n",
    "\n",
    "   On comparing the obtained expression with the given expression $\\beta = Ab$, we can say that,\n",
    "\n",
    "   $$\n",
    "   A_{p \\times p} = VD^{-1} \\text{ \\& } b = U^T y\n",
    "   $$\n",
    "\n",
    "    - b) Describe a fit method that precomputes these quantities separately\n",
    "\n",
    "    __Solution:__\n",
    "\n",
    "    Scipy's svd function can be used to compute the SVD of a matrix. In order to compute the above A and B we can write the following\n",
    "\n",
    "   "
   ]
  },
  {
   "cell_type": "code",
   "execution_count": 6,
   "metadata": {},
   "outputs": [],
   "source": [
    "# Defining the librarry for question 2\n",
    "from scipy.linalg import svd"
   ]
  },
  {
   "cell_type": "code",
   "execution_count": 7,
   "metadata": {},
   "outputs": [],
   "source": [
    "# Defining a function to calculate the A and B values\n",
    "def custom_svd(X,y):\n",
    "    # Getting the U,D,V values from the X matrix\n",
    "    U,D,V_t = svd(X,full_matrices = False)\n",
    "    \n",
    "    # Getting inverse of D\n",
    "    D_inv = np.diag(1/D)\n",
    "    \n",
    "    # Getting the A and B values\n",
    "    A = V_t.T @ D_inv  \n",
    "    \n",
    "    b = U.T @ y\n",
    "    \n",
    "    return A,b"
   ]
  },
  {
   "cell_type": "markdown",
   "metadata": {},
   "source": [
    " - c) Use the simulated data $y$ and $X$ in below to find $\\hat \\beta$ using SVD."
   ]
  },
  {
   "cell_type": "code",
   "execution_count": 8,
   "metadata": {},
   "outputs": [],
   "source": [
    "## Simulate from the linear regression model (use y,X)\n",
    "np.random.seed(2022)\n",
    "n, p = 100,20\n",
    "X = np.random.normal(0,1,size = (n,p))\n",
    "beta = np.random.normal(0,.2,size = (p))\n",
    "sigma = 1\n",
    "y = np.random.normal(X @ beta, sigma**2)"
   ]
  },
  {
   "cell_type": "code",
   "execution_count": 9,
   "metadata": {},
   "outputs": [
    {
     "data": {
      "text/plain": [
       "array([-0.17529727,  0.2409376 , -0.44251575, -0.03407534,  0.23607846,\n",
       "       -0.2524819 ,  0.50945566,  0.03948573,  0.21520295, -0.03151863,\n",
       "        0.02374895,  0.13474846, -0.37652418, -0.01026382, -0.33508302,\n",
       "       -0.04318508,  0.2321108 , -0.20681122, -0.05872932, -0.24552763])"
      ]
     },
     "execution_count": 9,
     "metadata": {},
     "output_type": "execute_result"
    }
   ],
   "source": [
    "# Calculating the estimated beta using the above function \n",
    "A,b = custom_svd(X,y)\n",
    "\n",
    "# beta is given by A @ b\n",
    "beta_hat = A @ b\n",
    "\n",
    "# The estimated beta is \n",
    "beta_hat"
   ]
  },
  {
   "cell_type": "markdown",
   "metadata": {},
   "source": [
    "- d) Call a new data $\\tilde X \\in \\mathbb{R}^{m \\times p}$, derive an expression for the predicted $y$ with $\\tilde X$ using SVD. \n",
    "\n",
    "__Solution:__\n",
    "\n",
    "We know that the predicted $y$ is given by:\n",
    "$$\n",
    "\\hat y =  X \\hat \\beta \\text{ where } \\hat \\beta = (X^T X)^{-1} X^T y\n",
    "$$\n",
    "\n",
    "On substituting the SVD decomposition of $\\hat \\beta$ we get:\n",
    "$$\n",
    "\\hat y = \\tilde X \\tilde V \\tilde D^{-1}\\tilde U^T y\n",
    "$$\n",
    "\n",
    "$$\n",
    "= \\tilde U \\tilde D \\tilde V^T \\tilde V \\tilde D^{-1}\\tilde U^T y\n",
    "$$\n",
    "\n",
    "On simplifying the above expression we get, \n",
    "\n",
    "$$\n",
    "\\hat y = \\tilde U \\tilde U^T y\n",
    "$$\n"
   ]
  },
  {
   "cell_type": "markdown",
   "metadata": {},
   "source": [
    "3. Consider a regressor that performs OLS using the SVD above, but every instance of D will only use the largest $r$ values on the diagonal, the remainder will be set to 0.  Call this new $p \\times p$ matrix $D_r$ ($r < p$).  Then the new coefficient vector is the OLS computed as if the design matrix is modified by $X \\gets U D_r V^\\top$.  \n",
    "- a) Given that you have computed $b$ already, how could you make a method `change_rank` that recomputes $A$ with $D_r$ instead of $D$?\n",
    "\n",
    "    __Solution:__\n",
    "    Using the same implementation as before, we can modify the singular value decomposition to only use the largest $r$ values on the diagonal. The function <code>change_rank</code> will be used to recompute the OLS coefficients with a lower rank using the same computation as <code> estimate_using_svd</code> function written in the previous part."
   ]
  },
  {
   "cell_type": "code",
   "execution_count": 10,
   "metadata": {},
   "outputs": [],
   "source": [
    "# Defining the change rank function \n",
    "def change_rank(X,y,r = np.linalg.matrix_rank(X)):\n",
    "    # Getting SVD decompostion\n",
    "    U,D,V_t = svd(X,full_matrices = False)\n",
    "    \n",
    "    # svd() returms the singular values as an array so we convert it to a diagonal matrix\n",
    "    D_inv = 1/D\n",
    "    if r != np.linalg.matrix_rank(X):\n",
    "        # getting r values and setting rest to 0 \n",
    "        D_inv = np.append(D_inv[:r], np.zeros(len(D) - r))\n",
    "        D_inv = np.diag(D_inv)\n",
    "    \n",
    "   # Getting the A and B values\n",
    "    A = V_t.T @ D_inv  \n",
    "    \n",
    "    b = U.T @ y\n",
    "    \n",
    "    # retunrning A and b\n",
    "    return A,b\n",
    "    \n"
   ]
  },
  {
   "cell_type": "markdown",
   "metadata": {},
   "source": [
    "- b) Choose $r = 10$, recompute $\\hat\\beta$ (call it $\\hat\\beta_{\\text{LowRank}}$) in Question 2-c.\n",
    "\n",
    "__Solution:__"
   ]
  },
  {
   "cell_type": "code",
   "execution_count": 11,
   "metadata": {},
   "outputs": [
    {
     "data": {
      "text/plain": [
       "array([ 0.03112502, -0.0430854 , -0.16394756,  0.03728632,  0.03755968,\n",
       "       -0.04653204, -0.04193316,  0.13440484, -0.02375678, -0.02505815,\n",
       "        0.26185551,  0.02535527, -0.04744292, -0.01710232, -0.03823046,\n",
       "       -0.01175641,  0.06146285, -0.16952398, -0.01660738, -0.10822824])"
      ]
     },
     "execution_count": 11,
     "metadata": {},
     "output_type": "execute_result"
    }
   ],
   "source": [
    "# Getting A and b based on r = 10 \n",
    "A,b = change_rank(X,y,r = 10)\n",
    "\n",
    "# Estimated beta is given by A @ b\n",
    "estimated_beta = A @ b\n",
    "\n",
    "estimated_beta"
   ]
  },
  {
   "cell_type": "markdown",
   "metadata": {},
   "source": [
    "### Exercise 3 (Subset selection)  (15 pts)\n",
    "\n",
    "Recall the subset selection problem with tuning parameter $k$,\n",
    "$$\n",
    "\\min_{\\beta : \\| \\beta \\|_0 \\le k}\\| y - X \\beta \\|_2^2,\n",
    "$$\n",
    "where $\\|\\beta\\|_0 = \\#\\{j = 1\\,\\ldots,p : \\beta_j \\ne 0 \\}$.\n",
    "\n",
    "Notice that we can write this as \n",
    "$$\n",
    "\\min_{\\beta : |{\\rm supp}(\\beta)| \\le k}\\| y - X \\beta \\|_2^2,\n",
    "$$\n",
    "where \n",
    "${\\rm supp}(\\beta) = \\{j = 1\\,\\ldots,p : \\beta_j \\ne 0 \\}$ (${\\rm supp}(\\beta)$ is the support of $\\beta$).\n"
   ]
  },
  {
   "cell_type": "markdown",
   "metadata": {},
   "source": [
    "1. (5 points) Write the subset selection problem in the following form\n",
    "$$\n",
    "\\min_{S \\subseteq \\{1,\\ldots,p\\}, |S|\\le k} y^\\top P_S y,\n",
    "$$\n",
    "where $P_S$ is a projection.\n",
    "\n",
    "__Solution:__\n",
    "\n",
    "We know that the predictions are given by:\n",
    "$$\n",
    "\\hat y = X \\hat \\beta = H y \\text{ where } H = X (X^T X)^{-1}X^T\n",
    "$$\n",
    "\n",
    "In order to minimize the above problem, we need to find a $\\beta$ that would minimize the difference between $y$ and $x\\beta$, which happens to be $\\hat \\beta$. If we resubtitute $\\beta = \\hat \\beta$, then we get the expression mentioned above hence the problem further converts into:\n",
    "\n",
    "$$\n",
    "\\min_{S \\subseteq \\{1,\\ldots,p\\}, |S|\\le k}\\| y - \\hat y \\|_2^2 = \\min_{|S \\subseteq \\{1,\\ldots,p\\}, |S|\\le k}\\| y - H_sy\\|_2^2 \n",
    "$$\n",
    "\n",
    "$$\n",
    "=  \\min_{S \\subseteq \\{1,\\ldots,p\\}, |S|\\le k}\\| y(I - H_s ) \\|_2^2 \n",
    "$$\n",
    "\n",
    "Note that in the above expression, instead of the normal $H$ which would consider all the predictors, $H_s$ would be selecting all the predictors that are in the support of $\\beta$ which are in the set $S$.\n",
    "\n",
    "On expanding the expression, we get:\n",
    "\n",
    "$$\n",
    "\\min_{S \\subseteq \\{1,\\ldots,p\\}, |S|\\le k}\\ y^T(I-H_s)^T(I-H_s)y\n",
    "$$\n",
    "\n",
    "Since $H_s$ is a projection, we can also say that $(I-H_s)$ is symmetric, hence we can write the above expression as:\n",
    "\n",
    "$$\n",
    "\\min_{S \\subseteq \\{1,\\ldots,p\\}, |S|\\le k}\\ y^T(I-H_s)y\n",
    "$$\n",
    "\n",
    "We can substitute the expression for $I-H_s$ as $P_s$ and we get:\n",
    "\n",
    "$$\n",
    "\\min_{S \\subseteq \\{1,\\ldots,p\\}, |S|\\le k}\\ y^TP_sy\n",
    "$$\n"
   ]
  },
  {
   "cell_type": "markdown",
   "metadata": {},
   "source": [
    "2. (10 points) Suppose that we have a nested sequence of models $S_1\\subset S_2 \\subset \\ldots \\subset S_p$ such that $|S_k| = k$ ($|S_k|$ is the cardinality of $S_k$, meaning that it contains $k$ variables).  Prove that $$y^\\top P_{S_k} y \\ge y^\\top P_{S_{k+1}} y$$ for $k=1,\\ldots,p-1$.  What does this tell us about the solution to the subset selection problem and the constraint $|S| \\le k$?\n",
    "\n",
    "(Hint: using the fact that $X^TX$ is positive definite, write $X^TX= VDV^T$)\n",
    "\n",
    "__Solution:__\n",
    "\n",
    "Using the given inequality, we have:\n",
    "$$\n",
    "y^TP_ky \\ge y^TP_{k+1}y => y^T (I-H_k)y \\ge y^T (I-H_{k+1})y\n",
    "$$\n",
    "\n",
    "$$\n",
    "y^Ty -y^TH_ky \\ge y^Ty -H_{k+1}y \n",
    "$$\n",
    "\n",
    "$$\n",
    "y^TH_ky \\le y^T H_{k+1}y\n",
    "$$\n",
    "\n",
    "Substituting the expression for $H_k$ in its SVD form we get the following:\n",
    "\n",
    "$$\n",
    "y^T UDV^T V D_k^{-1}U^T y \\le y^T UDV^T V D_{k+1}^{-1}U^T y\n",
    "$$\n",
    "\n",
    "$$\n",
    "y^TU D D_k^{-1}U^T y \\le y^TU D D_{k+1}^{-1}U^T y\n",
    "$$\n",
    "\n",
    "Noticing that $DD_k^{-1}$ is 'k' 1's on the diagonal and rest 0's, we notice that the expression is in the form of $x^T A x$ which can be simplified into: \n",
    "\n",
    "$$\n",
    "\\sum_{i = 1}^{k} (\\sum_{j = 1}^{n} U_{ji}y_j)^{2} \\le \\sum_{i = 1}^{k+1} (\\sum_{j = 1}^{n} U_{ji}y_j)^{2}\n",
    "$$\n",
    "\n",
    "We can see the RHS is the summation of 1 extra term than on the LHS. Hence the inequality is satisfied."
   ]
  },
  {
   "cell_type": "markdown",
   "metadata": {},
   "source": [
    "### Exercise 4 (Ridge, lasso and adaptive lasso) (40 pts, 5 pts each)\n",
    "\n",
    "For this exercise, it may be helpful to use the `sklearn.linear_model` module.  I have also included a plotting tool for making the lasso path in ESL.\n",
    "\n",
    "1. Load the training and test data using the script below.  Fit OLS on the training dataset and compute the test error.  Throughout you do not need to compute an intercept but you should normalize the $X$ (divide by the column norms).\n",
    "\n",
    "__Solution:__"
   ]
  },
  {
   "cell_type": "code",
   "execution_count": 12,
   "metadata": {},
   "outputs": [],
   "source": [
    "# Importing all the required packages for question 4\n",
    "from sklearn.linear_model import LinearRegression\n",
    "from sklearn.metrics import mean_squared_error\n",
    "from sklearn.linear_model import lars_path\n",
    "from sklearn.preprocessing import normalize"
   ]
  },
  {
   "cell_type": "code",
   "execution_count": 13,
   "metadata": {},
   "outputs": [],
   "source": [
    "# Loading our data\n",
    "import pickle\n",
    "with open('hw1.data','rb') as f:\n",
    "    y_tr,X_tr,y_te,X_te = pickle.load(f)"
   ]
  },
  {
   "cell_type": "code",
   "execution_count": 14,
   "metadata": {},
   "outputs": [],
   "source": [
    "# Normalizing the data by dividing the column by its norm \n",
    "X_tr_scaled = normalize(X_tr,axis = 0)"
   ]
  },
  {
   "cell_type": "code",
   "execution_count": 15,
   "metadata": {},
   "outputs": [
    {
     "data": {
      "text/plain": [
       "LinearRegression(fit_intercept=False)"
      ]
     },
     "execution_count": 15,
     "metadata": {},
     "output_type": "execute_result"
    }
   ],
   "source": [
    "# Using the Linear Regression model from sci-kit learn\n",
    "ols = LinearRegression(fit_intercept = False)\n",
    "# Fitting the model\n",
    "ols.fit(X_tr_scaled,y_tr)"
   ]
  },
  {
   "cell_type": "code",
   "execution_count": 16,
   "metadata": {},
   "outputs": [
    {
     "name": "stdout",
     "output_type": "stream",
     "text": [
      "The MSE for the OLS model is: 5209.3163\n"
     ]
    }
   ],
   "source": [
    "# Getting the testing accuracy\n",
    "predictions = ols.predict(X_te)\n",
    "\n",
    "# Getting the MSE\n",
    "ols_sse = mean_squared_error(y_te,predictions)\n",
    "print(\"The MSE for the OLS model is: {:.4f}\".format(ols_sse))"
   ]
  },
  {
   "cell_type": "markdown",
   "metadata": {},
   "source": [
    "2. Ridge regression:\n",
    "- a) Train and tune ridge regression using a validation set (choose LOOCV) and compute the test error (square error loss).\n",
    "\n",
    "__Solution:__"
   ]
  },
  {
   "cell_type": "code",
   "execution_count": 17,
   "metadata": {},
   "outputs": [],
   "source": [
    "# Importing the required packages\n",
    "from sklearn.linear_model import RidgeCV\n",
    "from sklearn.model_selection import KFold"
   ]
  },
  {
   "cell_type": "code",
   "execution_count": 18,
   "metadata": {},
   "outputs": [
    {
     "data": {
      "text/plain": [
       "RidgeCV(alphas=array([ 0.1,  1. , 10. ]), fit_intercept=False,\n",
       "        store_cv_values=True)"
      ]
     },
     "execution_count": 18,
     "metadata": {},
     "output_type": "execute_result"
    }
   ],
   "source": [
    "# RidgeCV by default uses the LOO cross validation\n",
    "# By giving it no alphas, it assumes default to be [0.1,1,10]\n",
    "loocv_ridge = RidgeCV(store_cv_values = True, fit_intercept=False)\n",
    "# Fitting the model \n",
    "loocv_ridge.fit(X_tr_scaled,y_tr)"
   ]
  },
  {
   "cell_type": "code",
   "execution_count": 19,
   "metadata": {},
   "outputs": [
    {
     "name": "stdout",
     "output_type": "stream",
     "text": [
      "The MSE for the RidgeCV model is: 3651.7683\n"
     ]
    }
   ],
   "source": [
    "# Getting the predictions\n",
    "loocv_ridge_predictions = loocv_ridge.predict(X_te)\n",
    "\n",
    "# Getting the SSE for the RidgeCV model\n",
    "loocv_ridge_sse = mean_squared_error(y_te,loocv_ridge_predictions)\n",
    "\n",
    "print(\"The MSE for the RidgeCV model is: {:.4f}\".format(loocv_ridge_sse))"
   ]
  },
  {
   "cell_type": "markdown",
   "metadata": {},
   "source": [
    "- b) Repeat a) but using K-fold (you can choose $K= 5$ or 10) cross validation, compute the test error. Compare the result to a). Comment on what you found.\n",
    "\n",
    "__Solution:__"
   ]
  },
  {
   "cell_type": "code",
   "execution_count": 20,
   "metadata": {},
   "outputs": [
    {
     "data": {
      "text/plain": [
       "RidgeCV(alphas=array([ 0.1,  1. , 10. ]), cv=10, fit_intercept=False)"
      ]
     },
     "execution_count": 20,
     "metadata": {},
     "output_type": "execute_result"
    }
   ],
   "source": [
    "# RidgeCV by default uses the LOO cross validation but by \n",
    "# setting cv = 10, we get a 10-fold cross validation\n",
    "# By giving it no alphas, it assumes default to be [0.1,1,10]\n",
    "kfold_ridge = RidgeCV(cv = 10,store_cv_values = False, \n",
    "                      fit_intercept = False)\n",
    "\n",
    "# Fitting the model\n",
    "kfold_ridge.fit(X_tr_scaled,y_tr)"
   ]
  },
  {
   "cell_type": "code",
   "execution_count": 21,
   "metadata": {},
   "outputs": [
    {
     "name": "stdout",
     "output_type": "stream",
     "text": [
      "The MSE for the RidgeCV model is: 3651.7683\n"
     ]
    }
   ],
   "source": [
    "# Getting the predictions\n",
    "kfold_predictions = kfold_ridge.predict(X_te)\n",
    "\n",
    "# Getting the SSE for the RidgeCV model\n",
    "kfold_ridge_sse = mean_squared_error(y_te,kfold_predictions)\n",
    "\n",
    "print(\"The MSE for the RidgeCV model is: {:.4f}\".format(kfold_ridge_sse))"
   ]
  },
  {
   "cell_type": "markdown",
   "metadata": {},
   "source": [
    "On noticing the MSE values we get, we see basically no improvement in the K-fold cross validation and the LOOCV. Unlike LOOCV, the k-fold CV does not explore all of the possible splits of the original data: it randomly splits the data set into k equally sized partitions, keeping one as validation set and k − 1 as training set. However LOOCV is more suitable when the dataset is smaller"
   ]
  },
  {
   "cell_type": "markdown",
   "metadata": {},
   "source": [
    "3. Fit the lasso path with lars to the data and compute the test error for each returned lasso coefficient.\n",
    "\n",
    "__Solution:__"
   ]
  },
  {
   "cell_type": "code",
   "execution_count": 22,
   "metadata": {},
   "outputs": [],
   "source": [
    "# Default function for getting the plots\n",
    "def plot_lars(coefs, lines=False, title=\"Lars Path\"):\n",
    "    \"\"\"\n",
    "    Plot the lasso path where coefs is a matrix - the columns are beta vectors\n",
    "    \"\"\"\n",
    "    xx = np.sum(np.abs(coefs.T), axis=1)\n",
    "    xx /= xx[-1]\n",
    "    plt.plot(xx, coefs.T)\n",
    "    ymin, ymax = plt.ylim()\n",
    "    if lines:\n",
    "        plt.vlines(xx, ymin, ymax, linestyle='dashed')\n",
    "    plt.xlabel('|coef| / max|coef|')\n",
    "    plt.ylabel('Coefficients')\n",
    "    plt.title(title)\n",
    "    plt.axis('tight')"
   ]
  },
  {
   "cell_type": "code",
   "execution_count": 23,
   "metadata": {},
   "outputs": [],
   "source": [
    "# Getting the lasso path for training data using the 'lars_path' \n",
    "# function by setting the method as 'lasso'\n",
    "# The lars function returns the alphas , the coefficients and the \n",
    "# active set\n",
    "alphas,active_lasso,coefs = lars_path(X_tr_scaled,y_tr,method = 'lasso')"
   ]
  },
  {
   "cell_type": "code",
   "execution_count": 24,
   "metadata": {},
   "outputs": [
    {
     "name": "stdout",
     "output_type": "stream",
     "text": [
      "The MSE for the 0th feature is: 6.0565\n",
      "The MSE for the 1th feature is: 828.3130\n",
      "The MSE for the 2th feature is: 2103.2714\n",
      "The MSE for the 3th feature is: 2733.1611\n",
      "The MSE for the 4th feature is: 3641.9393\n",
      "The MSE for the 5th feature is: 3675.6728\n",
      "The MSE for the 6th feature is: 3835.6989\n",
      "The MSE for the 7th feature is: 3870.5148\n",
      "The MSE for the 8th feature is: 3961.7864\n",
      "The MSE for the 9th feature is: 3970.7311\n",
      "The MSE for the 10th feature is: 3972.2181\n",
      "The MSE for the 11th feature is: 3973.3568\n",
      "The MSE for the 12th feature is: 3975.9204\n",
      "The MSE for the 13th feature is: 3976.9031\n",
      "The MSE for the 14th feature is: 3991.6420\n",
      "The MSE for the 15th feature is: 4006.7771\n",
      "The MSE for the 16th feature is: 4016.6011\n",
      "The MSE for the 17th feature is: 4028.9334\n",
      "The MSE for the 18th feature is: 4072.1554\n",
      "The MSE for the 19th feature is: 4091.7907\n",
      "The MSE for the 20th feature is: 4107.4824\n",
      "The MSE for the 21th feature is: 4110.1380\n",
      "The MSE for the 22th feature is: 4112.6543\n",
      "The MSE for the 23th feature is: 4117.3531\n",
      "The MSE for the 24th feature is: 4135.6905\n",
      "The MSE for the 25th feature is: 4137.9284\n",
      "The MSE for the 26th feature is: 4138.9837\n",
      "The MSE for the 27th feature is: 4166.8116\n",
      "The MSE for the 28th feature is: 4173.9311\n",
      "The MSE for the 29th feature is: 4178.9758\n",
      "The MSE for the 30th feature is: 4181.9081\n",
      "The MSE for the 31th feature is: 4193.3584\n",
      "The MSE for the 32th feature is: 4205.5185\n",
      "The MSE for the 33th feature is: 4210.4216\n",
      "The MSE for the 34th feature is: 4237.7393\n",
      "The MSE for the 35th feature is: 4262.0260\n",
      "The MSE for the 36th feature is: 4264.7013\n",
      "The MSE for the 37th feature is: 4285.8409\n",
      "The MSE for the 38th feature is: 4288.4476\n",
      "The MSE for the 39th feature is: 4300.8689\n",
      "The MSE for the 40th feature is: 4313.1343\n",
      "The MSE for the 41th feature is: 4315.4986\n",
      "The MSE for the 42th feature is: 4316.6237\n",
      "The MSE for the 43th feature is: 4322.9194\n",
      "The MSE for the 44th feature is: 4348.0643\n",
      "The MSE for the 45th feature is: 4350.0849\n",
      "The MSE for the 46th feature is: 4382.3931\n",
      "The MSE for the 47th feature is: 4392.5744\n",
      "The MSE for the 48th feature is: 4399.8778\n",
      "The MSE for the 49th feature is: 4402.1606\n",
      "The MSE for the 50th feature is: 4405.8317\n",
      "The MSE for the 51th feature is: 4417.8611\n",
      "The MSE for the 52th feature is: 4421.5575\n",
      "The MSE for the 53th feature is: 4439.5782\n",
      "The MSE for the 54th feature is: 4439.8755\n",
      "The MSE for the 55th feature is: 4442.2722\n",
      "The MSE for the 56th feature is: 4455.9866\n",
      "The MSE for the 57th feature is: 4456.8983\n",
      "The MSE for the 58th feature is: 4476.3749\n",
      "The MSE for the 59th feature is: 4477.0502\n",
      "The MSE for the 60th feature is: 4497.0902\n",
      "The MSE for the 61th feature is: 4498.0514\n",
      "The MSE for the 62th feature is: 4512.2826\n",
      "The MSE for the 63th feature is: 4512.8922\n",
      "The MSE for the 64th feature is: 4529.1880\n",
      "The MSE for the 65th feature is: 4539.0866\n",
      "The MSE for the 66th feature is: 4557.6328\n",
      "The MSE for the 67th feature is: 4581.3009\n",
      "The MSE for the 68th feature is: 4591.6098\n",
      "The MSE for the 69th feature is: 4598.7044\n",
      "The MSE for the 70th feature is: 4628.6873\n",
      "The MSE for the 71th feature is: 4639.0437\n",
      "The MSE for the 72th feature is: 4650.1517\n",
      "The MSE for the 73th feature is: 4650.4156\n",
      "The MSE for the 74th feature is: 4718.3010\n",
      "The MSE for the 75th feature is: 4723.5013\n",
      "The MSE for the 76th feature is: 4738.8062\n",
      "The MSE for the 77th feature is: 4752.7452\n",
      "The MSE for the 78th feature is: 4754.3405\n",
      "The MSE for the 79th feature is: 4757.4373\n",
      "The MSE for the 80th feature is: 4765.6359\n",
      "The MSE for the 81th feature is: 4770.6977\n",
      "The MSE for the 82th feature is: 4779.1586\n",
      "The MSE for the 83th feature is: 4798.8972\n",
      "The MSE for the 84th feature is: 4803.6949\n",
      "The MSE for the 85th feature is: 4811.2433\n",
      "The MSE for the 86th feature is: 4837.1730\n",
      "The MSE for the 87th feature is: 4844.6195\n",
      "The MSE for the 88th feature is: 4859.6660\n",
      "The MSE for the 89th feature is: 4937.7018\n",
      "The MSE for the 90th feature is: 4946.9575\n",
      "The MSE for the 91th feature is: 4952.4210\n",
      "The MSE for the 92th feature is: 4959.1634\n",
      "The MSE for the 93th feature is: 5023.5971\n",
      "The MSE for the 94th feature is: 5042.9633\n",
      "The MSE for the 95th feature is: 5100.8378\n",
      "The MSE for the 96th feature is: 5113.7773\n",
      "The MSE for the 97th feature is: 5120.2302\n",
      "The MSE for the 98th feature is: 5132.3888\n",
      "The MSE for the 99th feature is: 5174.5057\n",
      "The MSE for the 100th feature is: 5183.8481\n",
      "The MSE for the 101th feature is: 5193.0188\n",
      "The MSE for the 102th feature is: 5209.3163\n"
     ]
    }
   ],
   "source": [
    "# Calculating the test error for the lasso path\n",
    "for i in range(coefs.shape[1]):\n",
    "    mse = mean_squared_error(y_te,X_te @ coefs[:,i])\n",
    "    print(\"The MSE for the {}th feature is: {:.4f}\".format(i,\n",
    "                mse))"
   ]
  },
  {
   "cell_type": "markdown",
   "metadata": {},
   "source": [
    "One of the interesting thing to note is that the MSE eventually converges to the MSE obtained in the normal OLS case"
   ]
  },
  {
   "cell_type": "code",
   "execution_count": 25,
   "metadata": {},
   "outputs": [
    {
     "data": {
      "image/png": "[encoded data removed]",
      "text/plain": [
       "<Figure size 432x288 with 1 Axes>"
      ]
     },
     "metadata": {
      "needs_background": "light"
     },
     "output_type": "display_data"
    }
   ],
   "source": [
    "# plotting for Lasso path obtained using LARS\n",
    "plot_lars(coefs=coefs,lines=False, title = \"Lasso Path with LARS\")"
   ]
  },
  {
   "cell_type": "markdown",
   "metadata": {},
   "source": [
    "4. Perform 3 without the lasso modification generating the lars path.  Compare and contrast the lars path to the lasso path, what is the key difference.  Tell me when the active sets differ and how, if they do at all.\n",
    "\n",
    "__Solution:__"
   ]
  },
  {
   "cell_type": "code",
   "execution_count": 26,
   "metadata": {},
   "outputs": [
    {
     "name": "stdout",
     "output_type": "stream",
     "text": [
      "The MSE for the 0th feature is: 6.0565\n",
      "The MSE for the 1th feature is: 828.3130\n",
      "The MSE for the 2th feature is: 2103.2714\n",
      "The MSE for the 3th feature is: 2733.1611\n",
      "The MSE for the 4th feature is: 3641.9393\n",
      "The MSE for the 5th feature is: 3675.6728\n",
      "The MSE for the 6th feature is: 3835.6989\n",
      "The MSE for the 7th feature is: 3870.5148\n",
      "The MSE for the 8th feature is: 3961.7864\n",
      "The MSE for the 9th feature is: 3970.7311\n",
      "The MSE for the 10th feature is: 3972.2181\n",
      "The MSE for the 11th feature is: 3973.3568\n",
      "The MSE for the 12th feature is: 3975.9204\n",
      "The MSE for the 13th feature is: 3976.9031\n",
      "The MSE for the 14th feature is: 3991.6420\n",
      "The MSE for the 15th feature is: 4006.7771\n",
      "The MSE for the 16th feature is: 4016.6011\n",
      "The MSE for the 17th feature is: 4028.9334\n",
      "The MSE for the 18th feature is: 4072.1554\n",
      "The MSE for the 19th feature is: 4091.7907\n",
      "The MSE for the 20th feature is: 4107.4824\n",
      "The MSE for the 21th feature is: 4110.1380\n",
      "The MSE for the 22th feature is: 4112.6543\n",
      "The MSE for the 23th feature is: 4117.3531\n",
      "The MSE for the 24th feature is: 4135.6905\n",
      "The MSE for the 25th feature is: 4137.9284\n",
      "The MSE for the 26th feature is: 4138.9837\n",
      "The MSE for the 27th feature is: 4166.8116\n",
      "The MSE for the 28th feature is: 4173.9311\n",
      "The MSE for the 29th feature is: 4178.9758\n",
      "The MSE for the 30th feature is: 4181.9081\n",
      "The MSE for the 31th feature is: 4193.3584\n",
      "The MSE for the 32th feature is: 4205.5185\n",
      "The MSE for the 33th feature is: 4210.4216\n",
      "The MSE for the 34th feature is: 4237.7393\n",
      "The MSE for the 35th feature is: 4262.0260\n",
      "The MSE for the 36th feature is: 4264.7013\n",
      "The MSE for the 37th feature is: 4285.8409\n",
      "The MSE for the 38th feature is: 4288.4476\n",
      "The MSE for the 39th feature is: 4300.8689\n",
      "The MSE for the 40th feature is: 4313.1343\n",
      "The MSE for the 41th feature is: 4315.4986\n",
      "The MSE for the 42th feature is: 4316.6237\n",
      "The MSE for the 43th feature is: 4322.9194\n",
      "The MSE for the 44th feature is: 4348.0643\n",
      "The MSE for the 45th feature is: 4350.0849\n",
      "The MSE for the 46th feature is: 4382.3931\n",
      "The MSE for the 47th feature is: 4392.5744\n",
      "The MSE for the 48th feature is: 4399.8778\n",
      "The MSE for the 49th feature is: 4402.1606\n",
      "The MSE for the 50th feature is: 4405.8317\n",
      "The MSE for the 51th feature is: 4417.8611\n",
      "The MSE for the 52th feature is: 4421.5575\n",
      "The MSE for the 53th feature is: 4439.5782\n",
      "The MSE for the 54th feature is: 4439.8755\n",
      "The MSE for the 55th feature is: 4442.2722\n",
      "The MSE for the 56th feature is: 4455.9866\n",
      "The MSE for the 57th feature is: 4456.8983\n",
      "The MSE for the 58th feature is: 4476.3749\n",
      "The MSE for the 59th feature is: 4477.0502\n",
      "The MSE for the 60th feature is: 4497.0902\n",
      "The MSE for the 61th feature is: 4498.0514\n",
      "The MSE for the 62th feature is: 4512.2826\n",
      "The MSE for the 63th feature is: 4512.8922\n",
      "The MSE for the 64th feature is: 4529.1880\n",
      "The MSE for the 65th feature is: 4539.0866\n",
      "The MSE for the 66th feature is: 4557.6328\n",
      "The MSE for the 67th feature is: 4581.3009\n",
      "The MSE for the 68th feature is: 4591.6098\n",
      "The MSE for the 69th feature is: 4598.7044\n",
      "The MSE for the 70th feature is: 4638.2245\n",
      "The MSE for the 71th feature is: 4655.8631\n",
      "The MSE for the 72th feature is: 4665.9601\n",
      "The MSE for the 73th feature is: 4668.3863\n",
      "The MSE for the 74th feature is: 4774.6408\n",
      "The MSE for the 75th feature is: 4781.8850\n",
      "The MSE for the 76th feature is: 4794.5643\n",
      "The MSE for the 77th feature is: 4806.4787\n",
      "The MSE for the 78th feature is: 4819.9300\n",
      "The MSE for the 79th feature is: 4825.3582\n",
      "The MSE for the 80th feature is: 4831.2708\n",
      "The MSE for the 81th feature is: 4848.5988\n",
      "The MSE for the 82th feature is: 4872.3624\n",
      "The MSE for the 83th feature is: 4892.2706\n",
      "The MSE for the 84th feature is: 4892.7454\n",
      "The MSE for the 85th feature is: 4895.9787\n",
      "The MSE for the 86th feature is: 4987.5400\n",
      "The MSE for the 87th feature is: 5003.4284\n",
      "The MSE for the 88th feature is: 5060.2320\n",
      "The MSE for the 89th feature is: 5088.9763\n",
      "The MSE for the 90th feature is: 5094.8199\n",
      "The MSE for the 91th feature is: 5144.4027\n",
      "The MSE for the 92th feature is: 5200.7131\n",
      "The MSE for the 93th feature is: 5212.8489\n",
      "The MSE for the 94th feature is: 5221.6186\n",
      "The MSE for the 95th feature is: 5226.5567\n",
      "The MSE for the 96th feature is: 5251.4288\n",
      "The MSE for the 97th feature is: 5288.5955\n",
      "The MSE for the 98th feature is: 5299.0952\n",
      "The MSE for the 99th feature is: 5354.7887\n",
      "The MSE for the 100th feature is: 5355.6389\n",
      "The MSE for the 101th feature is: 5366.6738\n"
     ]
    }
   ],
   "source": [
    "# Getting the lars path for training data\n",
    "alphas,active_lars,coefs = lars_path(X_tr_scaled,y_tr, method = 'lars')\n",
    "\n",
    "# Calculating the MSE \n",
    "for i in range(coefs.shape[1]):\n",
    "    print(\"The MSE for the {}th feature is: {:.4f}\".format(i,\n",
    "                mean_squared_error(y_te,X_te @ coefs[:,i])))"
   ]
  },
  {
   "cell_type": "code",
   "execution_count": 27,
   "metadata": {},
   "outputs": [
    {
     "data": {
      "image/png": "[encoded data removed]",
      "text/plain": [
       "<Figure size 432x288 with 1 Axes>"
      ]
     },
     "metadata": {
      "needs_background": "light"
     },
     "output_type": "display_data"
    }
   ],
   "source": [
    "plot_lars(coefs=coefs,lines=False, title = \"LARS path\")"
   ]
  },
  {
   "cell_type": "markdown",
   "metadata": {},
   "source": [
    "On comparing the performance of the lasso path and the lars path, we see that the lasso path is more accurate than the lars path, having a lower MSE. However, the lars path converges quicker than the lasso path as seen where it takes 102 iterations to converge whereas the lars path takes only 101 iterations. \n",
    "\n",
    "Next, LARS path seems to take variable into consideration even after they hit 0 due to soft thresholding, however in Lasso path, the variables are not considered. Ex: Red path in the both plots. "
   ]
  },
  {
   "cell_type": "code",
   "execution_count": 28,
   "metadata": {},
   "outputs": [
    {
     "data": {
      "text/plain": [
       "100"
      ]
     },
     "execution_count": 28,
     "metadata": {},
     "output_type": "execute_result"
    }
   ],
   "source": [
    "# Seeing how many elemnents are common in the active sets\n",
    "len(set(active_lasso) & set(active_lars))"
   ]
  },
  {
   "cell_type": "code",
   "execution_count": 29,
   "metadata": {},
   "outputs": [
    {
     "data": {
      "text/plain": [
       "[5, 8, 0, 23, 58, 33, 32]"
      ]
     },
     "execution_count": 29,
     "metadata": {},
     "output_type": "execute_result"
    }
   ],
   "source": [
    "# Doing an order by order comparision of the two paths\n",
    "[i for i, j in zip(active_lars, active_lasso) if i == j]"
   ]
  },
  {
   "cell_type": "markdown",
   "metadata": {},
   "source": [
    "From the above, we can see that although the elements are the same , the order of consideration into the model seems to be different. The above shown estimates are the only one those terms that match in terms of the order of the entry in the model."
   ]
  },
  {
   "cell_type": "markdown",
   "metadata": {},
   "source": [
    "5. Fit the lasso path with coordinate descent to the data. Compare the lasso path using coordinate descent with the path using lars. Comment on what you found.\n",
    "\n",
    "__Solution:__"
   ]
  },
  {
   "cell_type": "code",
   "execution_count": 30,
   "metadata": {},
   "outputs": [],
   "source": [
    "# Using coordinate descent to get the coefficients\n",
    "# Importing the required packages\n",
    "from sklearn.linear_model import lasso_path\n",
    "\n"
   ]
  },
  {
   "cell_type": "code",
   "execution_count": 31,
   "metadata": {},
   "outputs": [
    {
     "name": "stdout",
     "output_type": "stream",
     "text": [
      "The MSE for the 0th feature is: 6.0565\n",
      "The MSE for the 1th feature is: 7.5029\n",
      "The MSE for the 2th feature is: 39.5533\n",
      "The MSE for the 3th feature is: 96.1462\n",
      "The MSE for the 4th feature is: 172.1495\n",
      "The MSE for the 5th feature is: 263.2300\n",
      "The MSE for the 6th feature is: 365.7405\n",
      "The MSE for the 7th feature is: 476.6223\n",
      "The MSE for the 8th feature is: 593.3211\n",
      "The MSE for the 9th feature is: 713.7136\n",
      "The MSE for the 10th feature is: 835.2772\n",
      "The MSE for the 11th feature is: 950.2626\n",
      "The MSE for the 12th feature is: 1071.7206\n",
      "The MSE for the 13th feature is: 1197.3625\n",
      "The MSE for the 14th feature is: 1325.2952\n",
      "The MSE for the 15th feature is: 1453.9629\n",
      "The MSE for the 16th feature is: 1582.0973\n",
      "The MSE for the 17th feature is: 1708.6744\n",
      "The MSE for the 18th feature is: 1832.8770\n",
      "The MSE for the 19th feature is: 1954.0634\n",
      "The MSE for the 20th feature is: 2071.7393\n",
      "The MSE for the 21th feature is: 2181.9512\n",
      "The MSE for the 22th feature is: 2288.3765\n",
      "The MSE for the 23th feature is: 2392.1395\n",
      "The MSE for the 24th feature is: 2492.8324\n",
      "The MSE for the 25th feature is: 2590.1509\n",
      "The MSE for the 26th feature is: 2683.8781\n",
      "The MSE for the 27th feature is: 2770.3906\n",
      "The MSE for the 28th feature is: 2850.4280\n",
      "The MSE for the 29th feature is: 2928.3537\n",
      "The MSE for the 30th feature is: 3003.8826\n",
      "The MSE for the 31th feature is: 3076.8042\n",
      "The MSE for the 32th feature is: 3146.9709\n",
      "The MSE for the 33th feature is: 3214.2870\n",
      "The MSE for the 34th feature is: 3278.7001\n",
      "The MSE for the 35th feature is: 3340.1928\n",
      "The MSE for the 36th feature is: 3398.7771\n",
      "The MSE for the 37th feature is: 3454.4878\n",
      "The MSE for the 38th feature is: 3507.3788\n",
      "The MSE for the 39th feature is: 3557.5182\n",
      "The MSE for the 40th feature is: 3604.9856\n",
      "The MSE for the 41th feature is: 3650.1262\n",
      "The MSE for the 42th feature is: 3692.3519\n",
      "The MSE for the 43th feature is: 3730.6918\n",
      "The MSE for the 44th feature is: 3766.9864\n",
      "The MSE for the 45th feature is: 3801.3030\n",
      "The MSE for the 46th feature is: 3833.7501\n",
      "The MSE for the 47th feature is: 3865.3968\n",
      "The MSE for the 48th feature is: 3895.1212\n",
      "The MSE for the 49th feature is: 3923.1824\n",
      "The MSE for the 50th feature is: 3949.6969\n",
      "The MSE for the 51th feature is: 3974.6577\n",
      "The MSE for the 52th feature is: 3999.4135\n",
      "The MSE for the 53th feature is: 4025.1580\n",
      "The MSE for the 54th feature is: 4060.7250\n",
      "The MSE for the 55th feature is: 4098.8404\n",
      "The MSE for the 56th feature is: 4138.4212\n",
      "The MSE for the 57th feature is: 4179.9616\n",
      "The MSE for the 58th feature is: 4222.6148\n",
      "The MSE for the 59th feature is: 4264.8383\n",
      "The MSE for the 60th feature is: 4305.9015\n",
      "The MSE for the 61th feature is: 4346.0474\n",
      "The MSE for the 62th feature is: 4385.6365\n",
      "The MSE for the 63th feature is: 4423.6967\n",
      "The MSE for the 64th feature is: 4460.5803\n",
      "The MSE for the 65th feature is: 4496.1778\n",
      "The MSE for the 66th feature is: 4532.0205\n",
      "The MSE for the 67th feature is: 4567.1863\n",
      "The MSE for the 68th feature is: 4600.7201\n",
      "The MSE for the 69th feature is: 4631.9071\n",
      "The MSE for the 70th feature is: 4657.1260\n",
      "The MSE for the 71th feature is: 4681.6366\n",
      "The MSE for the 72th feature is: 4705.0444\n",
      "The MSE for the 73th feature is: 4727.5015\n",
      "The MSE for the 74th feature is: 4749.1967\n",
      "The MSE for the 75th feature is: 4770.2500\n",
      "The MSE for the 76th feature is: 4790.3321\n",
      "The MSE for the 77th feature is: 4809.2367\n",
      "The MSE for the 78th feature is: 4827.0700\n",
      "The MSE for the 79th feature is: 4843.7920\n",
      "The MSE for the 80th feature is: 4865.4992\n",
      "The MSE for the 81th feature is: 4886.2425\n",
      "The MSE for the 82th feature is: 4905.8637\n",
      "The MSE for the 83th feature is: 4924.3930\n",
      "The MSE for the 84th feature is: 4941.8927\n",
      "The MSE for the 85th feature is: 4958.3353\n",
      "The MSE for the 86th feature is: 4973.8215\n",
      "The MSE for the 87th feature is: 4988.3993\n",
      "The MSE for the 88th feature is: 5002.1131\n",
      "The MSE for the 89th feature is: 5015.0059\n",
      "The MSE for the 90th feature is: 5027.1632\n",
      "The MSE for the 91th feature is: 5038.6458\n",
      "The MSE for the 92th feature is: 5049.5298\n",
      "The MSE for the 93th feature is: 5059.7348\n",
      "The MSE for the 94th feature is: 5069.3021\n",
      "The MSE for the 95th feature is: 5078.2704\n",
      "The MSE for the 96th feature is: 5086.7121\n",
      "The MSE for the 97th feature is: 5094.5884\n",
      "The MSE for the 98th feature is: 5101.9585\n",
      "The MSE for the 99th feature is: 5108.8930\n"
     ]
    }
   ],
   "source": [
    "# Getting the lasso path for training data using \n",
    "# coordinate descent.\n",
    "# By default, the lasso path is calculated by coordinate descent\n",
    "alphas,coefs,_ = lasso_path(X_tr_scaled,y_tr)\n",
    "\n",
    "# Calculating the MSE \n",
    "for i in range(coefs.shape[1]):\n",
    "    print(\"The MSE for the {}th feature is: {:.4f}\".format(i,\n",
    "                mean_squared_error(y_te,X_te @ coefs[:,i])))"
   ]
  },
  {
   "cell_type": "code",
   "execution_count": 32,
   "metadata": {},
   "outputs": [
    {
     "data": {
      "image/png": "[encoded data removed]",
      "text/plain": [
       "<Figure size 432x288 with 1 Axes>"
      ]
     },
     "metadata": {
      "needs_background": "light"
     },
     "output_type": "display_data"
    }
   ],
   "source": [
    "plot_lars(coefs=coefs,lines=False, title = \"Lasso Path with coordinate descent\")"
   ]
  },
  {
   "cell_type": "markdown",
   "metadata": {},
   "source": [
    "On comparing the test error for Lasso using the LARS path and Lasso path, we get a lower test error for the Lasso path of 5108.89 as opposed to 5209.31"
   ]
  },
  {
   "cell_type": "code",
   "execution_count": 33,
   "metadata": {},
   "outputs": [
    {
     "data": {
      "text/plain": [
       "(100, 100)"
      ]
     },
     "execution_count": 33,
     "metadata": {},
     "output_type": "execute_result"
    }
   ],
   "source": [
    "coefs.shape"
   ]
  },
  {
   "cell_type": "markdown",
   "metadata": {},
   "source": [
    "6. Extract each active set from the lasso path and recompute the restricted OLS for each.  Compute and compare the test error for each model."
   ]
  },
  {
   "cell_type": "code",
   "execution_count": 34,
   "metadata": {},
   "outputs": [],
   "source": [
    "# For every model in the lasso path we look at \n",
    "# all the non-zero coefficients\n",
    "overall_mse = []\n",
    "# X_te_scaled = normalize(X_te,axis = 0)\n",
    "for coef in coefs.T:\n",
    "    # Getting all non zero coefficients\n",
    "    subset_idx = np.where(coef != 0)[0]\n",
    "    \n",
    "    # Getting a subset of the data\n",
    "    X_tr_subset = X_tr_scaled[:,subset_idx]\n",
    "    X_te_subset = X_te[:,subset_idx]\n",
    "    if X_tr_subset.shape[1] == 0:\n",
    "        continue\n",
    "    # Fitting an OLS model \n",
    "    restricted_ols = LinearRegression(fit_intercept = False)\n",
    "    # Fitting the model\n",
    "    restricted_ols.fit(X_tr_subset,y_tr)\n",
    "    \n",
    "    # Getting the predictions\n",
    "    predictions = restricted_ols.predict(X_te_subset)\n",
    "    \n",
    "    # Getting the mse and storing it \n",
    "    overall_mse.append(mean_squared_error(y_te,predictions))"
   ]
  },
  {
   "cell_type": "code",
   "execution_count": 35,
   "metadata": {},
   "outputs": [
    {
     "data": {
      "text/plain": [
       "[<matplotlib.lines.Line2D at 0x1e7ea534a60>]"
      ]
     },
     "execution_count": 35,
     "metadata": {},
     "output_type": "execute_result"
    },
    {
     "data": {
      "image/png": "[encoded data removed]",
      "text/plain": [
       "<Figure size 432x288 with 1 Axes>"
      ]
     },
     "metadata": {
      "needs_background": "light"
     },
     "output_type": "display_data"
    }
   ],
   "source": [
    "plt.plot(overall_mse)"
   ]
  },
  {
   "cell_type": "markdown",
   "metadata": {},
   "source": [
    "We can see that introducing more and more variables is leading to a increase in the MSE for the model. This could be because the testing dataset is not normalized"
   ]
  },
  {
   "cell_type": "markdown",
   "metadata": {},
   "source": [
    "7. Read this website [click here](https://towardsdatascience.com/an-adaptive-lasso-63afca54b80d). Fit the adaptive lasso method to the data. Compare the test error between the adaptive lasso and lasso for each returned coefficient. Comment on what you found."
   ]
  },
  {
   "cell_type": "code",
   "execution_count": 36,
   "metadata": {},
   "outputs": [],
   "source": [
    "# Combining the training and testing data \n",
    "X = np.concatenate((X_tr,X_te),axis = 0)\n",
    "X = normalize(X,norm = 'l2',axis = 0)\n",
    "y = np.concatenate((y_tr,y_te),axis = 0)"
   ]
  },
  {
   "cell_type": "code",
   "execution_count": 37,
   "metadata": {},
   "outputs": [],
   "source": [
    "# Importing the required libraries \n",
    "import asgl\n",
    "\n",
    "lambda1 = np.linspace(0,1,1000)\n",
    "adaptive_lasso = asgl.TVT(model = 'lm', penalization='alasso',lambda1 = lambda1,\n",
    "                          error_type='MSE',weight_technique='lasso', parallel = True,\n",
    "                          random_state=1,\n",
    "                          train_pct=0.5 ,validate_pct= .25)"
   ]
  },
  {
   "cell_type": "code",
   "execution_count": 38,
   "metadata": {},
   "outputs": [
    {
     "data": {
      "text/plain": [
       "0.5"
      ]
     },
     "execution_count": 38,
     "metadata": {},
     "output_type": "execute_result"
    }
   ],
   "source": [
    "adaptive_lasso.alpha"
   ]
  },
  {
   "cell_type": "code",
   "execution_count": 39,
   "metadata": {},
   "outputs": [],
   "source": [
    "# Fitting the model\n",
    "alasso = adaptive_lasso.train_validate_test(x = X,y = y)"
   ]
  },
  {
   "cell_type": "code",
   "execution_count": 40,
   "metadata": {},
   "outputs": [
    {
     "name": "stdout",
     "output_type": "stream",
     "text": [
      "The error for the adaptive lasso model is: 1.1149\n"
     ]
    }
   ],
   "source": [
    "prediction_error = alasso[\"test_error\"]\n",
    "\n",
    "print(\"The error for the adaptive lasso model is: {:.4f}\".format(prediction_error))"
   ]
  },
  {
   "cell_type": "code",
   "execution_count": 44,
   "metadata": {},
   "outputs": [],
   "source": [
    "from sklearn.linear_model import Lasso\n",
    "from sklearn.model_selection import train_test_split"
   ]
  },
  {
   "cell_type": "code",
   "execution_count": 45,
   "metadata": {},
   "outputs": [],
   "source": [
    "# Splitting the data into training and testing data\n",
    "# We dont need to scale the data since its already scaled before\n",
    "X_train, X_test, y_train, y_test  = train_test_split(X, y, test_size=0.25, random_state=1)"
   ]
  },
  {
   "cell_type": "code",
   "execution_count": 46,
   "metadata": {},
   "outputs": [
    {
     "data": {
      "text/plain": [
       "Lasso(alpha=0.5)"
      ]
     },
     "execution_count": 46,
     "metadata": {},
     "output_type": "execute_result"
    }
   ],
   "source": [
    "# Initializing the Lasso with the best alpha in the adaptive lasso case\n",
    "lasso = Lasso(alpha = 0.5)\n",
    "# Fitting the model\n",
    "lasso.fit(X_train,y_train)"
   ]
  },
  {
   "cell_type": "code",
   "execution_count": 47,
   "metadata": {},
   "outputs": [],
   "source": [
    "# Getting the predictions\n",
    "predictions = lasso.predict(X_test)"
   ]
  },
  {
   "cell_type": "code",
   "execution_count": 48,
   "metadata": {},
   "outputs": [
    {
     "data": {
      "text/plain": [
       "6.111146714264486"
      ]
     },
     "execution_count": 48,
     "metadata": {},
     "output_type": "execute_result"
    }
   ],
   "source": [
    "# Getting the testing error\n",
    "mean_squared_error(y_test,predictions)"
   ]
  },
  {
   "cell_type": "markdown",
   "metadata": {},
   "source": [
    "We can see that the error obtained in the adaptive lasso is lower than the lasso. We get an error of 1.07 for the adaptive lasso and 6.11 for the lasso."
   ]
  }
 ],
 "metadata": {
  "interpreter": {
   "hash": "5bea1dba265153f73dd176568fe5adcb617454bd08dac3159439b35e09c34b6f"
  },
  "kernelspec": {
   "display_name": "Python 3.9.6 64-bit",
   "language": "python",
   "name": "python3"
  },
  "language_info": {
   "codemirror_mode": {
    "name": "ipython",
    "version": 3
   },
   "file_extension": ".py",
   "mimetype": "text/x-python",
   "name": "python",
   "nbconvert_exporter": "python",
   "pygments_lexer": "ipython3",
   "version": "3.9.6"
  },
  "orig_nbformat": 4
 },
 "nbformat": 4,
 "nbformat_minor": 2
}
